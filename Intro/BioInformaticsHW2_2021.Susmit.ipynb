{
  "cells": [
    {
      "cell_type": "markdown",
      "metadata": {
        "id": "u1MZIpwtDPzZ"
      },
      "source": [
        "# Problem 1\n",
        "\n"
      ]
    },
    {
      "cell_type": "markdown",
      "metadata": {
        "id": "Xj2unJpADYyV"
      },
      "source": [
        "Part 1\n",
        "\n",
        "Write a function count_pairs(dna, pair) that\n",
        "returns the number of occurrences of a pair of\n",
        "characters (pair) in a DNA string (dna). For\n",
        "example, calling the function with dna as\n",
        "'ACTGCTATCCATT' and pair as 'AT' will return 2."
      ]
    },
    {
      "cell_type": "code",
      "execution_count": 6,
      "metadata": {
        "id": "K0aCswCoDbhx"
      },
      "outputs": [
        {
          "name": "stdout",
          "output_type": "stream",
          "text": [
            "2\n"
          ]
        }
      ],
      "source": [
        "dna = 'ACTGCTATCCATT'\n",
        "pair = 'AT'\n",
        "def count_pairs(dna, pair):\n",
        "    count = 0\n",
        "    for i in range(len(dna)-1):\n",
        "        if dna[i:i+2] == pair:\n",
        "            count += 1\n",
        "    return count\n",
        "\n",
        "print(count_pairs(dna, pair))"
      ]
    },
    {
      "cell_type": "markdown",
      "metadata": {
        "id": "fkMpxX0UDbIZ"
      },
      "source": [
        "Part 2:\n",
        "\n",
        "This is an extension of Exercise 1: Find pairs of\n",
        "characters: count how many times a certain string\n",
        "appears in another string. For example, the function\n",
        "returns 3 when called with the DNA string\n",
        "'ACGTTACGGAACG' and the substring 'ACG'.\n",
        "\n",
        "Hint. For each match of the ﬁrst character of the\n",
        "substring in the main string, check if the next n\n",
        "characters in the main string matches the substring,\n",
        "where n is the length of the substring. Use slices like\n",
        "s[3:9] to pick out a substring of s.\n",
        "\n"
      ]
    },
    {
      "cell_type": "code",
      "execution_count": 7,
      "metadata": {
        "id": "3dpxMe5ADviA"
      },
      "outputs": [
        {
          "name": "stdout",
          "output_type": "stream",
          "text": [
            "3\n"
          ]
        }
      ],
      "source": [
        "dna = 'ACGTTACGGAACG'\n",
        "substring = 'ACG'\n",
        "\n",
        "def count_substrings(dna, substring):\n",
        "    count = 0\n",
        "    for i in range(len(dna)-2):\n",
        "        if dna[i:i+3] == substring:\n",
        "            count += 1\n",
        "    return count\n",
        "\n",
        "print(count_substrings(dna, substring))"
      ]
    },
    {
      "cell_type": "markdown",
      "metadata": {
        "id": "ujLdWb09Dxak"
      },
      "source": [
        "# Problem 2\n"
      ]
    },
    {
      "cell_type": "markdown",
      "metadata": {
        "id": "_oWb006sD0ho"
      },
      "source": [
        "Counting DNA Nucleotides\n",
        "\n",
        "A string is simply an ordered collection of symbols selected from some alphabet and formed into a word; the length of a string is the\n",
        "number of symbols that it contains.\n",
        "\n",
        "An example of a length 21 DNA string (whose alphabet contains the symbols 'A', 'C', 'G', and 'T') is \"ATGCTTCAGAAAGGTCTTACG.\"\n",
        "\n",
        "Given: A DNA string s of length at most 1000 nt.\n",
        "\n",
        "Return: Four integers (separated by spaces) counting the respective number of times that the symbols 'A', 'C', 'G', and 'T' occur in s.\n",
        "\n",
        "Sample Data Set:\n",
        "AGCTTTTCATTCTGACTGCAACGGGCAATATGTCTCTGTGTGGATTAAAAAAAGAGTGTCTGATAGCAGC\n",
        "\n",
        "Sample Output:\n",
        "\n",
        "`20 12 17 21`\n",
        "\n",
        "Visit: http://rosalind.info/problems/dna/\n",
        "\n",
        "I have only given you one sample output here. But you need to make sure that your code works for all outputs."
      ]
    },
    {
      "cell_type": "code",
      "execution_count": 10,
      "metadata": {
        "id": "sJgo5dAkEBG3"
      },
      "outputs": [
        {
          "name": "stdout",
          "output_type": "stream",
          "text": [
            "20 12 17 21\n"
          ]
        }
      ],
      "source": [
        "def count_nucleotides(s):\n",
        "    # Define counters for ACGT\n",
        "    count_A = 0\n",
        "    count_C = 0\n",
        "    count_G = 0\n",
        "    count_T = 0\n",
        "    \n",
        "    # Iterate through each character in the string\n",
        "    for char in s:\n",
        "        if char == 'A':\n",
        "            count_A += 1\n",
        "        elif char == 'C':\n",
        "            count_C += 1\n",
        "        elif char == 'G':\n",
        "            count_G += 1\n",
        "        elif char == 'T':\n",
        "            count_T += 1\n",
        "    \n",
        "    return f\"{count_A} {count_C} {count_G} {count_T}\"\n",
        "\n",
        "dna_string = \"AGCTTTTCATTCTGACTGCAACGGGCAATATGTCTCTGTGTGGATTAAAAAAAGAGTGTCTGATAGCAGC\"\n",
        "print(count_nucleotides(dna_string))\n"
      ]
    },
    {
      "cell_type": "markdown",
      "metadata": {
        "id": "I7GykgXOoS99"
      },
      "source": [
        "#Problem 3\n",
        "### Counting Point Mutations\n",
        "\n",
        "\n",
        "\n"
      ]
    },
    {
      "cell_type": "markdown",
      "metadata": {
        "id": "yhVOCp62EI-M"
      },
      "source": [
        "http://rosalind.info/problems/hamm/\n",
        "\n",
        "You may read more about the problem set more here.\n",
        "\n",
        "Given two strings s and t of equal length, the Hamming distance between s and t, denoted dH(s,t), is the number of corresponding symbols that differ in s and t. See Figure 2 [link image](http://rosalind.info/media/problems/hamm/Hamming_distance.png)\n",
        "\n",
        "Sample Dataset\n",
        "\n",
        "```\n",
        "GAGCCTACTAACGGGAT\n",
        "CATCGTAATGACGGCCT\n",
        "```\n",
        "\n",
        "Sample Output\n",
        "\n",
        "```\n",
        "7\n",
        "```"
      ]
    },
    {
      "cell_type": "code",
      "execution_count": 11,
      "metadata": {
        "id": "1xBofYBlmacz"
      },
      "outputs": [
        {
          "name": "stdout",
          "output_type": "stream",
          "text": [
            "7\n"
          ]
        }
      ],
      "source": [
        "#Problem 3\n",
        "#HINT: Define a function that determines how many characters between the string are different\n",
        "\n",
        "def hamming_distance(s, t):\n",
        "    distance = 0\n",
        "\n",
        "    for i in range(len(s)):\n",
        "        # Compare characters at each position\n",
        "        if s[i] != t[i]:\n",
        "            distance += 1\n",
        "    return distance\n",
        "\n",
        "s = \"GAGCCTACTAACGGGAT\"\n",
        "t = \"CATCGTAATGACGGCCT\"\n",
        "\n",
        "print(hamming_distance(s, t))  "
      ]
    },
    {
      "cell_type": "markdown",
      "metadata": {
        "id": "jkVzw31ztE49"
      },
      "source": [
        "#Problem 4\n",
        "### Finding a Shared Motif\n",
        "\n"
      ]
    },
    {
      "cell_type": "markdown",
      "metadata": {
        "id": "kvRNar0eEOCG"
      },
      "source": [
        "This problem is EXTREMELY HARD. IF you cannot succeed it is OK!\n",
        "\n",
        "http://rosalind.info/problems/lcsm\n",
        "\n",
        "You may read more about the problem set more here.\n",
        "\n",
        "A common substring of a collection of strings is a substring of every member of the collection. We say that a common substring is a longest common substring if there does not exist a longer common substring. For example, \"CG\" is a common substring of \"ACGTACGT\" and \"AACCGTATA\", but it is not as long as possible; in this case, \"CGTA\" is a longest common substring of \"ACGTACGT\" and \"AACCGTATA\".\n",
        "\n",
        "Note that the longest common substring is not necessarily unique; for a simple example, \"AA\" and \"CC\" are both longest common substrings of \"AACC\" and \"CCAA\".\n",
        "\n",
        "Given: A collection of k (k≤100) DNA strings of length at most 1 kbp each in FASTA format.\n",
        "\n",
        "Return: A longest common substring of the collection. (If multiple solutions exist, you may return any single solution.)\n",
        "\n",
        "Sample Dataset\n",
        "\n",
        "```\n",
        ">Rosalind_1\n",
        "GATTACA\n",
        ">Rosalind_2\n",
        "TAGACCA\n",
        ">Rosalind_3\n",
        "ATACA\n",
        "```\n",
        "Sample Output\n",
        "\n",
        "\n",
        "```\n",
        "AC\n",
        "```\n",
        "\n"
      ]
    },
    {
      "cell_type": "code",
      "execution_count": 12,
      "metadata": {
        "id": "1w5LCgR5uUcN"
      },
      "outputs": [
        {
          "name": "stdout",
          "output_type": "stream",
          "text": [
            "TA\n"
          ]
        }
      ],
      "source": [
        "# Problem 4\n",
        "# We mare changing this problem to a longest common substring/sequence\n",
        "# Ignore how the DNA is given (treat them as strings)\n",
        "\n",
        "def longest_common_substring(strings):\n",
        "    if not strings:\n",
        "        return \"\"\n",
        "\n",
        "    n = len(strings)\n",
        "    shortest = min(strings, key=len)\n",
        "    shortest_len = len(shortest)\n",
        "    longest_substring = \"\"\n",
        "\n",
        "    # Check all substrings of the shortest string\n",
        "    for start in range(shortest_len):\n",
        "        for end in range(start + len(longest_substring) + 1, shortest_len + 1):\n",
        "            substring = shortest[start:end]\n",
        "            if all(substring in s for s in strings):\n",
        "                longest_substring = substring\n",
        "\n",
        "    return longest_substring\n",
        "\n",
        "strings = [\n",
        "    \"GATTACA\",\n",
        "    \"TAGACCA\",\n",
        "    \"ATACA\"\n",
        "]\n",
        "\n",
        "print(longest_common_substring(strings))  "
      ]
    },
    {
      "cell_type": "markdown",
      "metadata": {
        "id": "X3G1g5hPvaOR"
      },
      "source": [
        "#Problem 5\n",
        "### Transcribing DNA to RNA\n"
      ]
    },
    {
      "cell_type": "markdown",
      "metadata": {
        "id": "p5t8n15nESrP"
      },
      "source": [
        "http://rosalind.info/problems/rna\n",
        "\n",
        "You may read more about the problem set more here.\n",
        "\n",
        "An RNA string is a string formed from the alphabet containing 'A', 'C', 'G', and 'U'.\n",
        "\n",
        "Given a DNA string t corresponding to a coding strand, its transcribed RNA string u is formed by replacing all occurrences of 'T' in t with 'U' in u.\n",
        "\n",
        "Given: A DNA string t having length at most 1000 nt.\n",
        "\n",
        "Return: The transcribed RNA string of t.\n",
        "\n",
        "\n",
        "Sample Dataset\n",
        "\n",
        "```\n",
        "GATGGAACTTGACTACGTAAATT\n",
        "```\n",
        "Sample Output\n",
        "\n",
        "\n",
        "```\n",
        "GAUGGAACUUGACUACGUAAAUU\n",
        "```"
      ]
    },
    {
      "cell_type": "code",
      "execution_count": 13,
      "metadata": {
        "id": "6vE5HKiKvvTt"
      },
      "outputs": [
        {
          "name": "stdout",
          "output_type": "stream",
          "text": [
            "GAUGGAACUUGACUACGUAAAUU\n"
          ]
        }
      ],
      "source": [
        "#Problem 5\n",
        "def transcribe_to_rna(dna_string):\n",
        "    rna_string = dna_string.replace('T', 'U')\n",
        "    return rna_string\n",
        "\n",
        "dna_string = \"GATGGAACTTGACTACGTAAATT\"\n",
        "rna_string = transcribe_to_rna(dna_string)\n",
        "print(rna_string)  "
      ]
    },
    {
      "cell_type": "markdown",
      "metadata": {
        "id": "lwc8EwVWxMCH"
      },
      "source": [
        "\n",
        "\n",
        "#Problem 6\n",
        "### Complementing a Strand of DNA\n"
      ]
    },
    {
      "cell_type": "markdown",
      "metadata": {
        "id": "Bd-ntZCGEVsH"
      },
      "source": [
        "http://rosalind.info/problems/revc\n",
        "\n",
        "In DNA strings, symbols 'A' and 'T' are complements of each other, as are 'C' and 'G'.\n",
        "\n",
        "The reverse complement of a DNA string s is the string sc formed by reversing the symbols of s, then taking the complement of each symbol (e.g., the reverse complement of \"GTCA\" is \"TGAC\").\n",
        "\n",
        "Given: A DNA string s of length at most 1000 bp.\n",
        "\n",
        "Return: The reverse complement s^c of s.\n",
        "\n",
        "\n",
        "Sample Dataset\n",
        "\n",
        "```\n",
        "AAAACCCGGT\n",
        "```\n",
        "Sample Output\n",
        "\n",
        "\n",
        "```\n",
        "ACCGGGTTTT\n",
        "```"
      ]
    },
    {
      "cell_type": "code",
      "execution_count": 26,
      "metadata": {},
      "outputs": [
        {
          "name": "stdout",
          "output_type": "stream",
          "text": [
            "ACCGGGTTTT\n"
          ]
        }
      ],
      "source": [
        "def reverse_complement(dna_string):\n",
        "    complement = {'A': 'T', 'C': 'G', 'G': 'C', 'T': 'A'}\n",
        "    reverse_comp = ''.join(complement[base] for base in reversed(dna_string))\n",
        "    return reverse_comp\n",
        "\n",
        "dna_string = \"AAAACCCGGT\"\n",
        "reverse_comp = reverse_complement(dna_string)\n",
        "print(reverse_comp)  "
      ]
    }
  ],
  "metadata": {
    "colab": {
      "provenance": []
    },
    "kernelspec": {
      "display_name": "Python 3",
      "name": "python3"
    },
    "language_info": {
      "codemirror_mode": {
        "name": "ipython",
        "version": 3
      },
      "file_extension": ".py",
      "mimetype": "text/x-python",
      "name": "python",
      "nbconvert_exporter": "python",
      "pygments_lexer": "ipython3",
      "version": "3.12.2"
    }
  },
  "nbformat": 4,
  "nbformat_minor": 0
}
