{
  "cells": [
    {
      "cell_type": "markdown",
      "metadata": {
        "id": "q7Nr3tnx5J5P"
      },
      "source": [
        "# Welcome to Intro to Python's Homework 1 Topic 1\n",
        "\n",
        "Hello Students!! I hope this finds you well. I am trying to make these so it is easier for the students to upload and open the questions. It is also slightly easier than the powerpoints. You will be finding many more questions along the way and I hope I don't give you too many. But I believe in you. Good luck.\n"
      ]
    },
    {
      "cell_type": "code",
      "execution_count": 20,
      "metadata": {
        "id": "DzYYZ7xl40d2"
      },
      "outputs": [
        {
          "name": "stdout",
          "output_type": "stream",
          "text": [
            "HW Problem 1 Function 1 is correct\n"
          ]
        }
      ],
      "source": [
        "# HW Problem 1 Part 1 Function 1\n",
        "# Make a function called silly_case\n",
        "# that takes a string  and returns a new string that is the same as the input string\n",
        "# but the first letter of each word is in lowercase\n",
        "# and all the other letters are uppercase.\n",
        "# Please do not use looping!!\n",
        "\n",
        "import re\n",
        "\n",
        "def silly_case(string):\n",
        "    def transform_word(match):\n",
        "        word = match.group()\n",
        "        return word[0].lower() + word[1:].upper()\n",
        "    \n",
        "    return re.sub(r'\\b\\w+\\b', transform_word, string)\n",
        "\n",
        "poem = \"It matters now how straight the gate, \\nhow charged with punishments the scroll. \\nI am the master of my fate: \\nI am the captain of my soul.\"\n",
        "x = \"This is a string\"\n",
        "\n",
        "assert silly_case(poem) == \"iT mATTERS nOW hOW sTRAIGHT tHE gATE, \\nhOW cHARGED wITH pUNISHMENTS tHE sCROLL. \\ni aM tHE mASTER oF mY fATE: \\ni aM tHE cAPTAIN oF mY sOUL.\"\n",
        "assert silly_case(x) == \"tHIS iS a sTRING\"\n",
        "print(\"HW Problem 1 Function 1 is correct\")"
      ]
    },
    {
      "cell_type": "code",
      "execution_count": 26,
      "metadata": {
        "id": "Cr1nAses8mzE"
      },
      "outputs": [
        {
          "name": "stdout",
          "output_type": "stream",
          "text": [
            "HW Problem 1 Function 2 is correct\n"
          ]
        }
      ],
      "source": [
        "# HW Problem 1 Part 1 Function 2\n",
        "\n",
        "# Make a function called dash_stringify\n",
        "# so that is takes a list of words (strings) and returns a string\n",
        "# that contains all the words from the list with ‘-’ in between the words.\n",
        "# No looping!!!\n",
        "\n",
        "fruits = [\"Orange\", \"Lemon\", \"Lime\", \"Cherry\", \"Peach\", \"Apricot\"]\n",
        "nums = [\"1\", \"2\", \"3\"]\n",
        "\n",
        "def dash_stringify(words):\n",
        "    return '-'.join(words)\n",
        "\n",
        "assert dash_stringify(fruits) == \"Orange-Lemon-Lime-Cherry-Peach-Apricot\"\n",
        "try:\n",
        "  assert dash_stringify(nums) == \"1-2-3\"\n",
        "except:\n",
        "  print(\"Dash Stringify can only be used on Strings\")\n",
        "print(\"HW Problem 1 Function 2 is correct\")"
      ]
    },
    {
      "cell_type": "code",
      "execution_count": 27,
      "metadata": {
        "id": "iupiEEWqv-_u"
      },
      "outputs": [
        {
          "name": "stdout",
          "output_type": "stream",
          "text": [
            "HW1 Function 3 is correct\n"
          ]
        }
      ],
      "source": [
        "# HW Problem 1 Part 1 Function 3\n",
        "\n",
        "# This function is also probably a part of you 90 problems.\n",
        "\n",
        "\n",
        "# Make a function called is_perfect_square so that it takes a number as an input and returns True if the\n",
        "# given number is a perfect square, or False if it is not.\n",
        "# Please do not use looping!!\n",
        "\n",
        "# A perfect square is an integer number which is the square of an integer. For example 25 (5*5),  49\n",
        "# (7*7), and 81 (9*9) are all perfect squares\n",
        "\n",
        "# Here are the 3 methods I know that can be used to solve the problem\n",
        "import math\n",
        "\n",
        "# Method 1: Using math.isqrt()\n",
        "def is_perfect_square1(n):\n",
        "    return math.isqrt(n) ** 2 == n\n",
        "\n",
        "# Method 2: Using math.sqrt() and checking if it's an integer\n",
        "def is_perfect_square2(n):\n",
        "    return math.sqrt(n).is_integer()\n",
        "\n",
        "# Method 3: Using pow() function with 0.5 exponent \n",
        "def is_perfect_square3(n):\n",
        "    return int(n ** 0.5) ** 2 == n\n",
        "\n",
        "assert is_perfect_square1(81) == True\n",
        "assert is_perfect_square1(82) == False\n",
        "assert is_perfect_square2(81) == True\n",
        "assert is_perfect_square2(83) == False\n",
        "assert is_perfect_square3(81) == True\n",
        "assert is_perfect_square3(83) == False\n",
        "\n",
        "print(\"HW1 Function 3 is correct\")\n"
      ]
    },
    {
      "cell_type": "code",
      "execution_count": 28,
      "metadata": {
        "id": "LkJMQVardWuZ"
      },
      "outputs": [
        {
          "name": "stdout",
          "output_type": "stream",
          "text": [
            "HW1 Function 4 is correct\n"
          ]
        }
      ],
      "source": [
        "# HW Problem 1 Part 1 Function 4\n",
        "\n",
        "# Make a function called is_leap_year so that it takes a year\n",
        "# as a number input and returns True if the given number is a leap year\n",
        "# or False if it is not.\n",
        "\n",
        "\n",
        "# Leap years are years that are divisible by 4\n",
        "# Exception: Centennial years (years divided by 100) are not leap years\n",
        "# Exception to exception: years divisible by 400 are indeed leap years\n",
        "\n",
        "def is_leap_year(year):\n",
        "    if (year % 400 == 0):\n",
        "        return True\n",
        "    if (year % 100 == 0):\n",
        "        return False\n",
        "    if (year % 4 == 0):\n",
        "        return True\n",
        "    return False\n",
        "\n",
        "assert is_leap_year(1900) == False\n",
        "assert is_leap_year(2000) == True\n",
        "assert is_leap_year(2012) == True\n",
        "assert is_leap_year(2018) == False\n",
        "\n",
        "print(\"HW1 Function 4 is correct\")\n",
        "\n",
        "\n"
      ]
    },
    {
      "cell_type": "markdown",
      "metadata": {
        "id": "T851e4fbBjlu"
      },
      "source": [
        "Please Copy Any code boxes you complete in"
      ]
    }
  ],
  "metadata": {
    "colab": {
      "provenance": []
    },
    "kernelspec": {
      "display_name": "Python 3",
      "name": "python3"
    },
    "language_info": {
      "codemirror_mode": {
        "name": "ipython",
        "version": 3
      },
      "file_extension": ".py",
      "mimetype": "text/x-python",
      "name": "python",
      "nbconvert_exporter": "python",
      "pygments_lexer": "ipython3",
      "version": "3.12.2"
    }
  },
  "nbformat": 4,
  "nbformat_minor": 0
}
