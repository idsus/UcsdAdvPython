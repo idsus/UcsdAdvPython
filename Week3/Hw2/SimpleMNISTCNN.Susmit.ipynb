{
  "nbformat": 4,
  "nbformat_minor": 0,
  "metadata": {
    "colab": {
      "provenance": [],
      "gpuType": "T4"
    },
    "kernelspec": {
      "name": "python3",
      "display_name": "Python 3"
    },
    "language_info": {
      "name": "python"
    },
    "accelerator": "GPU"
  },
  "cells": [
    {
      "cell_type": "code",
      "execution_count": 1,
      "metadata": {
        "colab": {
          "base_uri": "https://localhost:8080/"
        },
        "id": "5cwZAtN83vUf",
        "outputId": "1440144c-e3f2-488f-e1a0-f0bfdd544a83"
      },
      "outputs": [
        {
          "output_type": "stream",
          "name": "stdout",
          "text": [
            "Requirement already satisfied: tensorflow in /usr/local/lib/python3.10/dist-packages (2.15.0)\n",
            "Requirement already satisfied: absl-py>=1.0.0 in /usr/local/lib/python3.10/dist-packages (from tensorflow) (1.4.0)\n",
            "Requirement already satisfied: astunparse>=1.6.0 in /usr/local/lib/python3.10/dist-packages (from tensorflow) (1.6.3)\n",
            "Requirement already satisfied: flatbuffers>=23.5.26 in /usr/local/lib/python3.10/dist-packages (from tensorflow) (24.3.25)\n",
            "Requirement already satisfied: gast!=0.5.0,!=0.5.1,!=0.5.2,>=0.2.1 in /usr/local/lib/python3.10/dist-packages (from tensorflow) (0.6.0)\n",
            "Requirement already satisfied: google-pasta>=0.1.1 in /usr/local/lib/python3.10/dist-packages (from tensorflow) (0.2.0)\n",
            "Requirement already satisfied: h5py>=2.9.0 in /usr/local/lib/python3.10/dist-packages (from tensorflow) (3.9.0)\n",
            "Requirement already satisfied: libclang>=13.0.0 in /usr/local/lib/python3.10/dist-packages (from tensorflow) (18.1.1)\n",
            "Requirement already satisfied: ml-dtypes~=0.2.0 in /usr/local/lib/python3.10/dist-packages (from tensorflow) (0.2.0)\n",
            "Requirement already satisfied: numpy<2.0.0,>=1.23.5 in /usr/local/lib/python3.10/dist-packages (from tensorflow) (1.25.2)\n",
            "Requirement already satisfied: opt-einsum>=2.3.2 in /usr/local/lib/python3.10/dist-packages (from tensorflow) (3.3.0)\n",
            "Requirement already satisfied: packaging in /usr/local/lib/python3.10/dist-packages (from tensorflow) (24.1)\n",
            "Requirement already satisfied: protobuf!=4.21.0,!=4.21.1,!=4.21.2,!=4.21.3,!=4.21.4,!=4.21.5,<5.0.0dev,>=3.20.3 in /usr/local/lib/python3.10/dist-packages (from tensorflow) (3.20.3)\n",
            "Requirement already satisfied: setuptools in /usr/local/lib/python3.10/dist-packages (from tensorflow) (67.7.2)\n",
            "Requirement already satisfied: six>=1.12.0 in /usr/local/lib/python3.10/dist-packages (from tensorflow) (1.16.0)\n",
            "Requirement already satisfied: termcolor>=1.1.0 in /usr/local/lib/python3.10/dist-packages (from tensorflow) (2.4.0)\n",
            "Requirement already satisfied: typing-extensions>=3.6.6 in /usr/local/lib/python3.10/dist-packages (from tensorflow) (4.12.2)\n",
            "Requirement already satisfied: wrapt<1.15,>=1.11.0 in /usr/local/lib/python3.10/dist-packages (from tensorflow) (1.14.1)\n",
            "Requirement already satisfied: tensorflow-io-gcs-filesystem>=0.23.1 in /usr/local/lib/python3.10/dist-packages (from tensorflow) (0.37.1)\n",
            "Requirement already satisfied: grpcio<2.0,>=1.24.3 in /usr/local/lib/python3.10/dist-packages (from tensorflow) (1.64.1)\n",
            "Requirement already satisfied: tensorboard<2.16,>=2.15 in /usr/local/lib/python3.10/dist-packages (from tensorflow) (2.15.2)\n",
            "Requirement already satisfied: tensorflow-estimator<2.16,>=2.15.0 in /usr/local/lib/python3.10/dist-packages (from tensorflow) (2.15.0)\n",
            "Requirement already satisfied: keras<2.16,>=2.15.0 in /usr/local/lib/python3.10/dist-packages (from tensorflow) (2.15.0)\n",
            "Requirement already satisfied: wheel<1.0,>=0.23.0 in /usr/local/lib/python3.10/dist-packages (from astunparse>=1.6.0->tensorflow) (0.43.0)\n",
            "Requirement already satisfied: google-auth<3,>=1.6.3 in /usr/local/lib/python3.10/dist-packages (from tensorboard<2.16,>=2.15->tensorflow) (2.27.0)\n",
            "Requirement already satisfied: google-auth-oauthlib<2,>=0.5 in /usr/local/lib/python3.10/dist-packages (from tensorboard<2.16,>=2.15->tensorflow) (1.2.1)\n",
            "Requirement already satisfied: markdown>=2.6.8 in /usr/local/lib/python3.10/dist-packages (from tensorboard<2.16,>=2.15->tensorflow) (3.6)\n",
            "Requirement already satisfied: requests<3,>=2.21.0 in /usr/local/lib/python3.10/dist-packages (from tensorboard<2.16,>=2.15->tensorflow) (2.31.0)\n",
            "Requirement already satisfied: tensorboard-data-server<0.8.0,>=0.7.0 in /usr/local/lib/python3.10/dist-packages (from tensorboard<2.16,>=2.15->tensorflow) (0.7.2)\n",
            "Requirement already satisfied: werkzeug>=1.0.1 in /usr/local/lib/python3.10/dist-packages (from tensorboard<2.16,>=2.15->tensorflow) (3.0.3)\n",
            "Requirement already satisfied: cachetools<6.0,>=2.0.0 in /usr/local/lib/python3.10/dist-packages (from google-auth<3,>=1.6.3->tensorboard<2.16,>=2.15->tensorflow) (5.4.0)\n",
            "Requirement already satisfied: pyasn1-modules>=0.2.1 in /usr/local/lib/python3.10/dist-packages (from google-auth<3,>=1.6.3->tensorboard<2.16,>=2.15->tensorflow) (0.4.0)\n",
            "Requirement already satisfied: rsa<5,>=3.1.4 in /usr/local/lib/python3.10/dist-packages (from google-auth<3,>=1.6.3->tensorboard<2.16,>=2.15->tensorflow) (4.9)\n",
            "Requirement already satisfied: requests-oauthlib>=0.7.0 in /usr/local/lib/python3.10/dist-packages (from google-auth-oauthlib<2,>=0.5->tensorboard<2.16,>=2.15->tensorflow) (1.3.1)\n",
            "Requirement already satisfied: charset-normalizer<4,>=2 in /usr/local/lib/python3.10/dist-packages (from requests<3,>=2.21.0->tensorboard<2.16,>=2.15->tensorflow) (3.3.2)\n",
            "Requirement already satisfied: idna<4,>=2.5 in /usr/local/lib/python3.10/dist-packages (from requests<3,>=2.21.0->tensorboard<2.16,>=2.15->tensorflow) (3.7)\n",
            "Requirement already satisfied: urllib3<3,>=1.21.1 in /usr/local/lib/python3.10/dist-packages (from requests<3,>=2.21.0->tensorboard<2.16,>=2.15->tensorflow) (2.0.7)\n",
            "Requirement already satisfied: certifi>=2017.4.17 in /usr/local/lib/python3.10/dist-packages (from requests<3,>=2.21.0->tensorboard<2.16,>=2.15->tensorflow) (2024.7.4)\n",
            "Requirement already satisfied: MarkupSafe>=2.1.1 in /usr/local/lib/python3.10/dist-packages (from werkzeug>=1.0.1->tensorboard<2.16,>=2.15->tensorflow) (2.1.5)\n",
            "Requirement already satisfied: pyasn1<0.7.0,>=0.4.6 in /usr/local/lib/python3.10/dist-packages (from pyasn1-modules>=0.2.1->google-auth<3,>=1.6.3->tensorboard<2.16,>=2.15->tensorflow) (0.6.0)\n",
            "Requirement already satisfied: oauthlib>=3.0.0 in /usr/local/lib/python3.10/dist-packages (from requests-oauthlib>=0.7.0->google-auth-oauthlib<2,>=0.5->tensorboard<2.16,>=2.15->tensorflow) (3.2.2)\n"
          ]
        }
      ],
      "source": [
        "# Install necessary libraries\n",
        "!pip install tensorflow"
      ]
    },
    {
      "cell_type": "code",
      "source": [
        "# 3. Import libraries and modules\n",
        "import numpy as np\n",
        "np.random.seed(123)  # for reproducibility"
      ],
      "metadata": {
        "id": "5B8KgyXk3zG7"
      },
      "execution_count": 2,
      "outputs": []
    },
    {
      "cell_type": "code",
      "source": [
        "# Importing necessary components from Keras\n",
        "from tensorflow.keras.models import Sequential  # Model type to use\n",
        "from tensorflow.keras.layers import Dense, Dropout, Activation, Flatten  # Core layers\n",
        "from tensorflow.keras.layers import Conv2D, MaxPooling2D  # CNN layers\n",
        "from tensorflow.keras.utils import to_categorical  # Utility for one-hot encoding\n",
        "from tensorflow.keras.datasets import mnist  # MNIST dataset"
      ],
      "metadata": {
        "id": "OHNItmV_4Hu7"
      },
      "execution_count": 3,
      "outputs": []
    },
    {
      "cell_type": "code",
      "source": [
        "# 4. Load pre-shuffled MNIST data into train and test sets\n",
        "(X_train, y_train), (X_test, y_test) = mnist.load_data()"
      ],
      "metadata": {
        "colab": {
          "base_uri": "https://localhost:8080/"
        },
        "id": "SypHUvuv4nIU",
        "outputId": "5c466469-ea70-432e-9de9-3009e9d576dc"
      },
      "execution_count": 4,
      "outputs": [
        {
          "output_type": "stream",
          "name": "stdout",
          "text": [
            "Downloading data from https://storage.googleapis.com/tensorflow/tf-keras-datasets/mnist.npz\n",
            "11490434/11490434 [==============================] - 0s 0us/step\n"
          ]
        }
      ]
    },
    {
      "cell_type": "code",
      "source": [
        "print( X_train.shape )"
      ],
      "metadata": {
        "colab": {
          "base_uri": "https://localhost:8080/"
        },
        "id": "CijZvq6355r3",
        "outputId": "ee8b4733-7a24-4b30-9036-14343423c1a7"
      },
      "execution_count": 5,
      "outputs": [
        {
          "output_type": "stream",
          "name": "stdout",
          "text": [
            "(60000, 28, 28)\n"
          ]
        }
      ]
    },
    {
      "cell_type": "code",
      "source": [
        "from matplotlib import pyplot as plt\n",
        "plt.imshow(X_train[0])"
      ],
      "metadata": {
        "colab": {
          "base_uri": "https://localhost:8080/",
          "height": 447
        },
        "id": "Vvq3c5ar6Al_",
        "outputId": "67e97eb2-7069-4b23-c244-12565a9c09c0"
      },
      "execution_count": 6,
      "outputs": [
        {
          "output_type": "execute_result",
          "data": {
            "text/plain": [
              "<matplotlib.image.AxesImage at 0x7bfef27b0ca0>"
            ]
          },
          "metadata": {},
          "execution_count": 6
        },
        {
          "output_type": "display_data",
          "data": {
            "text/plain": [
              "<Figure size 640x480 with 1 Axes>"
            ],
            "image/png": "[encoded data removed]"
          },
          "metadata": {}
        }
      ]
    },
    {
      "cell_type": "code",
      "source": [],
      "metadata": {
        "id": "AKnM_wKM6H75"
      },
      "execution_count": 6,
      "outputs": []
    },
    {
      "cell_type": "code",
      "source": [
        "# 5. Preprocess input data\n",
        "\n",
        "\n",
        "# Reshape the training data\n",
        "# The original shape of X_train is (num_samples, 28, 28), where each sample is a 28x28 pixel image.\n",
        "# We reshape it to (num_samples, 28, 28, 1) to add an extra dimension for the single color channel (grayscale).\n",
        "# This is necessary because the Conv2D layer in Keras expects input data to have shape (batch_size, height, width, channels).\n",
        "X_train = X_train.reshape(X_train.shape[0], 28, 28, 1)\n",
        "\n",
        "# Reshape the test data\n",
        "# Similarly, we reshape X_test to (num_samples, 28, 28, 1) for the same reason as above.\n",
        "X_test = X_test.reshape(X_test.shape[0], 28, 28, 1)"
      ],
      "metadata": {
        "id": "HtSmOLKi4orP"
      },
      "execution_count": 7,
      "outputs": []
    },
    {
      "cell_type": "code",
      "source": [
        "print( X_train.shape )"
      ],
      "metadata": {
        "colab": {
          "base_uri": "https://localhost:8080/"
        },
        "id": "e0JfiSmx6Q0-",
        "outputId": "82dceec1-f426-41dc-ec2e-091c75f3f729"
      },
      "execution_count": 8,
      "outputs": [
        {
          "output_type": "stream",
          "name": "stdout",
          "text": [
            "(60000, 28, 28, 1)\n"
          ]
        }
      ]
    },
    {
      "cell_type": "code",
      "source": [
        "# Convert the training data to float32\n",
        "# The original data type of X_train is typically uint8 (unsigned 8-bit integer), which ranges from 0 to 255.\n",
        "# We convert it to float32 to allow for floating-point operations in the subsequent normalization step.\n",
        "X_train = X_train.astype('float32')\n",
        "\n",
        "# Convert the test data to float32\n",
        "# Similarly, we convert X_test to float32.\n",
        "X_test = X_test.astype('float32')\n",
        "\n",
        "# Normalize the training data\n",
        "# The pixel values in X_train range from 0 to 255. We normalize them to the range 0 to 1 by dividing by 255.\n",
        "# This is a common preprocessing step that helps in faster convergence during training.\n",
        "X_train /= 255\n",
        "\n",
        "# Normalize the test data\n",
        "# We normalize the pixel values in X_test in the same way as the training data to ensure consistency.\n",
        "X_test /= 255"
      ],
      "metadata": {
        "id": "rFhYprmC6NKk"
      },
      "execution_count": 9,
      "outputs": []
    },
    {
      "cell_type": "code",
      "source": [
        "print( y_train.shape )"
      ],
      "metadata": {
        "colab": {
          "base_uri": "https://localhost:8080/"
        },
        "id": "cYZ7y6nH6YJE",
        "outputId": "7c97b2b9-388b-419b-af5b-5485d2efad8e"
      },
      "execution_count": 10,
      "outputs": [
        {
          "output_type": "stream",
          "name": "stdout",
          "text": [
            "(60000,)\n"
          ]
        }
      ]
    },
    {
      "cell_type": "code",
      "source": [
        "# 6. Preprocess class labels\n",
        "\n",
        "# Convert 1-dimensional class arrays to 10-dimensional class matrices\n",
        "# Convert the training labels to one-hot encoded format\n",
        "# Convert the test labels to one-hot encoded format\n",
        "Y_train = to_categorical(y_train, 10)\n",
        "Y_test = to_categorical(y_test, 10)"
      ],
      "metadata": {
        "id": "G6M0l4_44ugP"
      },
      "execution_count": 11,
      "outputs": []
    },
    {
      "cell_type": "code",
      "source": [
        "print( y_train.shape )"
      ],
      "metadata": {
        "colab": {
          "base_uri": "https://localhost:8080/"
        },
        "id": "86r8lIgg6a20",
        "outputId": "b9d1cbb4-0899-4c19-e4cd-c37a76367f0b"
      },
      "execution_count": 12,
      "outputs": [
        {
          "output_type": "stream",
          "name": "stdout",
          "text": [
            "(60000,)\n"
          ]
        }
      ]
    },
    {
      "cell_type": "code",
      "source": [
        "# 7. Define model architecture\n",
        "model = Sequential()"
      ],
      "metadata": {
        "id": "1RgtdCiy4viE"
      },
      "execution_count": 13,
      "outputs": []
    },
    {
      "cell_type": "code",
      "source": [
        "# Add a convolutional layer with 32 filters, a 3x3 kernel, ReLU activation, and specify the input shape\n",
        "model.add(Conv2D(32, (3,3), activation='relu', input_shape=(28,28,1)))\n",
        "\n",
        "# Add another convolutional layer with 32 filters and a 3x3 kernel, ReLU activation\n",
        "model.add(Conv2D(32, (3,3), activation='relu')) # ReLU activation is used for non-linearity in the network\n",
        "\n",
        "# Add a max pooling layer with a 2x2 pool size to reduce the spatial dimensions\n",
        "model.add(MaxPooling2D(pool_size=(2,2)))\n",
        "\n",
        "# Add a dropout layer to reduce overfitting by setting 25% of inputs to zero during training\n",
        "model.add(Dropout(0.25))"
      ],
      "metadata": {
        "id": "jjSKJyFd6k51"
      },
      "execution_count": 14,
      "outputs": []
    },
    {
      "cell_type": "code",
      "source": [
        "# Flatten the 3D output from the convolutional layers to 1D for the fully connected layers\n",
        "model.add(Flatten())\n",
        "\n",
        "# Add a fully connected (dense) layer with 128 units and ReLU activation\n",
        "model.add(Dense(128, activation='relu'))\n",
        "\n",
        "# Add a dropout layer to reduce overfitting by setting 50% of inputs to zero during training\n",
        "model.add(Dropout(0.5))\n",
        "\n",
        "# Add the output layer with 10 units (one for each class) and softmax activation for classification\n",
        "model.add(Dense(10, activation='softmax')) # Softmax activation is used for multi-class classification"
      ],
      "metadata": {
        "id": "ookPiFVs6iDO"
      },
      "execution_count": 15,
      "outputs": []
    },
    {
      "cell_type": "code",
      "source": [
        "# 8. Compile model\n",
        "model.compile(loss='categorical_crossentropy', # Categorical crossentropy loss function is used for multi-class classification\n",
        "              optimizer='adam', # Adam optimizer is used for adjusting the learning rate based on the gradient\n",
        "              metrics=['accuracy']) # Accuracy metric is used for evaluation"
      ],
      "metadata": {
        "id": "Sqq8_vr945ET"
      },
      "execution_count": 16,
      "outputs": []
    },
    {
      "cell_type": "code",
      "source": [
        "# 9. Fit model on training data\n",
        "model.fit(X_train, Y_train,\n",
        "          batch_size=32, epochs=10, verbose=1)"
      ],
      "metadata": {
        "colab": {
          "base_uri": "https://localhost:8080/"
        },
        "id": "ww7Vr6N547MC",
        "outputId": "b181a196-efc8-4a20-e81c-d175cc515cdd"
      },
      "execution_count": 17,
      "outputs": [
        {
          "output_type": "stream",
          "name": "stdout",
          "text": [
            "Epoch 1/10\n",
            "1875/1875 [==============================] - 18s 4ms/step - loss: 0.1965 - accuracy: 0.9403\n",
            "Epoch 2/10\n",
            "1875/1875 [==============================] - 7s 4ms/step - loss: 0.0826 - accuracy: 0.9750\n",
            "Epoch 3/10\n",
            "1875/1875 [==============================] - 8s 4ms/step - loss: 0.0656 - accuracy: 0.9800\n",
            "Epoch 4/10\n",
            "1875/1875 [==============================] - 7s 4ms/step - loss: 0.0527 - accuracy: 0.9840\n",
            "Epoch 5/10\n",
            "1875/1875 [==============================] - 7s 4ms/step - loss: 0.0482 - accuracy: 0.9848\n",
            "Epoch 6/10\n",
            "1875/1875 [==============================] - 8s 4ms/step - loss: 0.0419 - accuracy: 0.9873\n",
            "Epoch 7/10\n",
            "1875/1875 [==============================] - 7s 4ms/step - loss: 0.0370 - accuracy: 0.9888\n",
            "Epoch 8/10\n",
            "1875/1875 [==============================] - 8s 4ms/step - loss: 0.0351 - accuracy: 0.9885\n",
            "Epoch 9/10\n",
            "1875/1875 [==============================] - 7s 4ms/step - loss: 0.0304 - accuracy: 0.9904\n",
            "Epoch 10/10\n",
            "1875/1875 [==============================] - 8s 4ms/step - loss: 0.0280 - accuracy: 0.9910\n"
          ]
        },
        {
          "output_type": "execute_result",
          "data": {
            "text/plain": [
              "<keras.src.callbacks.History at 0x7bfeef43cc70>"
            ]
          },
          "metadata": {},
          "execution_count": 17
        }
      ]
    },
    {
      "cell_type": "code",
      "source": [
        "\n",
        "# 10. Evaluate model on test data\n",
        "score = model.evaluate(X_test, Y_test, verbose=0) # Verbose=0 is used to suppress the progress bar\n",
        "print('Test loss:', score[0])\n",
        "print('Test accuracy:', score[1])"
      ],
      "metadata": {
        "colab": {
          "base_uri": "https://localhost:8080/"
        },
        "id": "2FV2OeUy4-M3",
        "outputId": "8c992a62-efc2-4392-c1c5-72746c8cebda"
      },
      "execution_count": 18,
      "outputs": [
        {
          "output_type": "stream",
          "name": "stdout",
          "text": [
            "Test loss: 0.02991829812526703\n",
            "Test accuracy: 0.9923999905586243\n"
          ]
        }
      ]
    },
    {
      "cell_type": "markdown",
      "source": [
        "- Purpose of the project was to make a CNN classifier with handwritten digits using keras, which recieved more then 99% accuracy\n",
        "- Deep learning involves neural networks with multiple hidden layers to learn complex data representations. CNNs are specialized for image data, which reduces the number of parameters.\n",
        "\n",
        "### Steps to Build the CNN:\n",
        "1. **Environment Setup**: Install Python, SciPy, NumPy, and Matplotlib.\n",
        "2. **Install Keras and TensorFlow**: Use Anaconda Navigator.\n",
        "3. **Import Libraries**: Import numpy, Keras components, and MNIST dataset.\n",
        "4. **Load Data**: Load and split MNIST dataset into training and testing sets.\n",
        "5. **Preprocess Data**: Reshape, convert to float32, and normalize pixel values.\n",
        "6. **Preprocess Labels**: Convert class labels to one-hot encoded vectors.\n",
        "7. **Define Model**: Build CNN with convolutional, pooling, dropout, and dense layers.\n",
        "8. **Compile Model**: Set loss function, optimizer, and metrics.\n",
        "9. **Train Model**: Fit the model on training data.\n",
        "10. **Evaluate Model**: Assess performance on test data.\n"
      ],
      "metadata": {
        "id": "AESNC5T3--Zq"
      }
    }
  ]
}