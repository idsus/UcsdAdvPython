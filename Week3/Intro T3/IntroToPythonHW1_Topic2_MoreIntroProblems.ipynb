{
  "cells": [
    {
      "cell_type": "markdown",
      "metadata": {
        "id": "anbXZ-lURatm"
      },
      "source": [
        "# **Topic 2 More Intro Problems**\n",
        "\n",
        "Now that you should be more well versed lets see if you can handle these"
      ]
    },
    {
      "cell_type": "markdown",
      "metadata": {
        "id": "z1Cf4z-6Sx47"
      },
      "source": [
        "## Section 1: General"
      ]
    },
    {
      "cell_type": "markdown",
      "metadata": {
        "id": "bWf-Q4xHRlaO"
      },
      "source": [
        "1. Write a Python program to print the following string in a specific format (see the output).\n",
        "Sample String : \"Twinkle, twinkle, little star, How I wonder what you are! Up above the world so high, Like a diamond in the sky. Twinkle, twinkle, little star, How I wonder what you are\"\n",
        "Output :\n",
        "\n",
        "\n",
        "\n",
        "```\n",
        "Twinkle, twinkle, little star,\n",
        "\tHow I wonder what you are!\n",
        "\t\tUp above the world so high,\n",
        "\t\tLike a diamond in the sky.\n",
        "Twinkle, twinkle, little star,\n",
        "\tHow I wonder what you are\n",
        "```\n",
        "\n",
        "\n"
      ]
    },
    {
      "cell_type": "code",
      "execution_count": 3,
      "metadata": {},
      "outputs": [
        {
          "name": "stdout",
          "output_type": "stream",
          "text": [
            "Twinkle, twinkle, little star,\n",
            "\tHow I wonder what you are!\n",
            "\t\tUp above the world so high,\n",
            "\t\tLike a diamond in the sky.\n",
            "Twinkle, twinkle, little star,\n",
            "\tHow I wonder what you are\n"
          ]
        }
      ],
      "source": [
        "twinkle_string = \"\"\"Twinkle, twinkle, little star,\n",
        "\\tHow I wonder what you are!\n",
        "\\t\\tUp above the world so high,\n",
        "\\t\\tLike a diamond in the sky.\n",
        "Twinkle, twinkle, little star,\n",
        "\\tHow I wonder what you are\"\"\"\n",
        "\n",
        "print(twinkle_string)\n"
      ]
    },
    {
      "cell_type": "markdown",
      "metadata": {
        "id": "R8Nk5ilPRsR2"
      },
      "source": [
        "2. Write a Python program to find out what version of Python you are using."
      ]
    },
    {
      "cell_type": "code",
      "execution_count": 4,
      "metadata": {
        "id": "8cFFdqtKR016"
      },
      "outputs": [
        {
          "name": "stdout",
          "output_type": "stream",
          "text": [
            "Python version\n",
            "3.12.2 (tags/v3.12.2:6abddd9, Feb  6 2024, 21:26:36) [MSC v.1937 64 bit (AMD64)]\n"
          ]
        }
      ],
      "source": [
        "# Write a Python program to get the Python version you are using\n",
        "import sys\n",
        "print(\"Python version\")\n",
        "print(sys.version)"
      ]
    },
    {
      "cell_type": "markdown",
      "metadata": {
        "id": "ZP2O2t5OR1oa"
      },
      "source": [
        "5. Write a Python program that accepts the user's first and last name and prints them in reverse order with a space between them."
      ]
    },
    {
      "cell_type": "code",
      "execution_count": 7,
      "metadata": {
        "id": "NNTr_DIxR4xF"
      },
      "outputs": [
        {
          "name": "stdout",
          "output_type": "stream",
          "text": [
            "Kevin Minion\n"
          ]
        }
      ],
      "source": [
        "first_name = input(\"Enter your first name: \")\n",
        "last_name = input(\"Enter your last name: \")\n",
        "print(last_name + \" \" + first_name)"
      ]
    },
    {
      "cell_type": "markdown",
      "metadata": {
        "id": "2WeYfKK-R8Yu"
      },
      "source": [
        "6. Write a Python program that accepts a sequence of comma-separated numbers from the user and generates a list and a tuple of those numbers.\n",
        "Sample data : 3, 5, 7, 23\n",
        "Output :\n",
        "List : ['3', ' 5', ' 7', ' 23']\n",
        "Tuple : ('3', ' 5', ' 7', ' 23')"
      ]
    },
    {
      "cell_type": "code",
      "execution_count": 8,
      "metadata": {
        "id": "GgJ3d6-QR-XF"
      },
      "outputs": [
        {
          "name": "stdout",
          "output_type": "stream",
          "text": [
            "List:  ['3', '5', '7', '23']\n",
            "Tuple:  ('3', '5', '7', '23')\n"
          ]
        }
      ],
      "source": [
        "nums = input(\"Enter a few numbers separated by commas ex. (3, 5, 7, 23): \")\n",
        "nums = nums.split(\", \")\n",
        "print(\"List: \", nums)\n",
        "print(\"Tuple: \", tuple(nums))"
      ]
    },
    {
      "cell_type": "markdown",
      "metadata": {
        "id": "lQBihEHLSBqG"
      },
      "source": [
        "8. Write a Python program to display the first and last colors from the following list.\n",
        "color_list = [\"Red\",\"Green\",\"White\" ,\"Black\"]"
      ]
    },
    {
      "cell_type": "code",
      "execution_count": 9,
      "metadata": {
        "id": "_Mkumd4LSCDW"
      },
      "outputs": [
        {
          "name": "stdout",
          "output_type": "stream",
          "text": [
            "First color:  Red\n",
            "Last color:  Black\n"
          ]
        }
      ],
      "source": [
        "color_list = [\"Red\", \"Green\", \"White\", \"Black\"]\n",
        "print(\"First color: \", color_list[0])\n",
        "print(\"Last color: \", color_list[-1])"
      ]
    },
    {
      "cell_type": "markdown",
      "metadata": {
        "id": "nS29WGPwSFRA"
      },
      "source": [
        "10. Write a Python program that accepts an integer (n) and computes the value of n+nn+nnn.\n",
        "Sample value of n is 5\n",
        "Expected Result : 615"
      ]
    },
    {
      "cell_type": "code",
      "execution_count": 11,
      "metadata": {
        "id": "LrfK52OKSUp9"
      },
      "outputs": [
        {
          "name": "stdout",
          "output_type": "stream",
          "text": [
            "615\n"
          ]
        }
      ],
      "source": [
        "n = int(input(\"Enter a number: \"))\n",
        "result = n + n*11 + n*111\n",
        "print(result)"
      ]
    },
    {
      "cell_type": "markdown",
      "metadata": {
        "id": "zTD8ti3MSWQI"
      },
      "source": [
        "17. Write a Python program to test whether a number is within 100 of 1000 or 2000."
      ]
    },
    {
      "cell_type": "code",
      "execution_count": 12,
      "metadata": {
        "id": "xRMxgeygSeMe"
      },
      "outputs": [
        {
          "name": "stdout",
          "output_type": "stream",
          "text": [
            "True\n",
            "True\n",
            "True\n",
            "True\n",
            "False\n",
            "False\n"
          ]
        }
      ],
      "source": [
        "def near_thousand(n):\n",
        "    return abs(1000 - n) <= 100 or abs(2000 - n) <= 100\n",
        "\n",
        "print(near_thousand(900))   \n",
        "print(near_thousand(1100))  \n",
        "print(near_thousand(1900))  \n",
        "print(near_thousand(2100))  \n",
        "print(near_thousand(800))   \n",
        "print(near_thousand(2200))  "
      ]
    },
    {
      "cell_type": "markdown",
      "metadata": {
        "id": "IvCFcQ9VSdhZ"
      },
      "source": [
        "21. Write a Python program that determines whether a given number (accepted from the user) is even or odd, and prints an appropriate message to the user."
      ]
    },
    {
      "cell_type": "code",
      "execution_count": 13,
      "metadata": {
        "id": "yLaoo_xuSe54"
      },
      "outputs": [
        {
          "name": "stdout",
          "output_type": "stream",
          "text": [
            "999 is odd.\n"
          ]
        }
      ],
      "source": [
        "number = int(input(\"Enter a number: \"))\n",
        "\n",
        "if number % 2 == 0:\n",
        "    print(f\"{number} is even.\")\n",
        "else:\n",
        "    print(f\"{number} is odd.\")"
      ]
    },
    {
      "cell_type": "markdown",
      "metadata": {
        "id": "QEp6ejnORzYQ"
      },
      "source": [
        "25. Write a Python program that checks whether a specified value is contained within a group of values.\n",
        "Test Data :\n",
        "3 -> [1, 5, 8, 3] : True\n",
        "-1 -> [1, 5, 8, 3] : False\n",
        "\n"
      ]
    },
    {
      "cell_type": "code",
      "execution_count": 14,
      "metadata": {
        "id": "oqtpaXMqRqlH"
      },
      "outputs": [
        {
          "name": "stdout",
          "output_type": "stream",
          "text": [
            "True\n",
            "False\n"
          ]
        }
      ],
      "source": [
        "value1 = 3\n",
        "group1 = [1, 5, 8, 3]\n",
        "\n",
        "value2 = -1\n",
        "group2 = [1, 5, 8, 3]\n",
        "\n",
        "print(value1 in group1)  \n",
        "print(value2 in group2)  "
      ]
    },
    {
      "cell_type": "markdown",
      "metadata": {
        "id": "PucYUXmhRtMI"
      },
      "source": [
        "37. Write a Python program that displays your name, age, and address on three different lines."
      ]
    },
    {
      "cell_type": "code",
      "execution_count": 15,
      "metadata": {
        "id": "xCl5KiQfOFjb"
      },
      "outputs": [
        {
          "name": "stdout",
          "output_type": "stream",
          "text": [
            "Name: John Doe\n",
            "Age: 25\n",
            "Address: 123 Main St\n"
          ]
        }
      ],
      "source": [
        "name = \"John Doe\" \n",
        "age = 25\n",
        "address = \"123 Main St\"\n",
        "\n",
        "print(f\"Name: {name}\\nAge: {age}\\nAddress: {address}\")"
      ]
    },
    {
      "cell_type": "markdown",
      "metadata": {
        "id": "OWrJpYTbS1oV"
      },
      "source": [
        "## Section 2: Puzzles and Topics"
      ]
    },
    {
      "cell_type": "markdown",
      "metadata": {
        "id": "aB3EoVwcS-NQ"
      },
      "source": [
        "1. Write a Python function that takes a sequence of numbers and determines whether all the numbers are different from each other."
      ]
    },
    {
      "cell_type": "code",
      "execution_count": 16,
      "metadata": {
        "id": "YEGK9CLBS-yc"
      },
      "outputs": [
        {
          "name": "stdout",
          "output_type": "stream",
          "text": [
            "True\n",
            "False\n",
            "False\n",
            "True\n"
          ]
        }
      ],
      "source": [
        "def are_all_unique(numbers):\n",
        "    unique_numbers = set(numbers)\n",
        "    return len(numbers) == len(unique_numbers)\n",
        "\n",
        "print(are_all_unique([1, 2, 3, 4, 5]))\n",
        "print(are_all_unique([1, 2, 3, 3, 4, 5]))\n",
        "print(are_all_unique([1, 1, 1, 1, 1]))     \n",
        "print(are_all_unique([]))  "
      ]
    },
    {
      "cell_type": "markdown",
      "metadata": {
        "id": "T_C7shu-TAAi"
      },
      "source": [
        "2. Write a Python program that creates all possible strings using the letters 'a', 'e', 'i', 'o', and 'I'. Ensure that each character is used only once."
      ]
    },
    {
      "cell_type": "code",
      "execution_count": 17,
      "metadata": {
        "id": "wEsUWRmfTAg6"
      },
      "outputs": [
        {
          "name": "stdout",
          "output_type": "stream",
          "text": [
            "aeiou\n",
            "aeiuo\n",
            "aeoiu\n",
            "aeoui\n",
            "aeuio\n",
            "aeuoi\n",
            "aieou\n",
            "aieuo\n",
            "aioeu\n",
            "aioue\n",
            "aiueo\n",
            "aiuoe\n",
            "aoeiu\n",
            "aoeui\n",
            "aoieu\n",
            "aoiue\n",
            "aouei\n",
            "aouie\n",
            "aueio\n",
            "aueoi\n",
            "auieo\n",
            "auioe\n",
            "auoei\n",
            "auoie\n",
            "eaiou\n",
            "eaiuo\n",
            "eaoiu\n",
            "eaoui\n",
            "eauio\n",
            "eauoi\n",
            "eiaou\n",
            "eiauo\n",
            "eioau\n",
            "eioua\n",
            "eiuao\n",
            "eiuoa\n",
            "eoaiu\n",
            "eoaui\n",
            "eoiau\n",
            "eoiua\n",
            "eouai\n",
            "eouia\n",
            "euaio\n",
            "euaoi\n",
            "euiao\n",
            "euioa\n",
            "euoai\n",
            "euoia\n",
            "iaeou\n",
            "iaeuo\n",
            "iaoeu\n",
            "iaoue\n",
            "iaueo\n",
            "iauoe\n",
            "ieaou\n",
            "ieauo\n",
            "ieoau\n",
            "ieoua\n",
            "ieuao\n",
            "ieuoa\n",
            "ioaeu\n",
            "ioaue\n",
            "ioeau\n",
            "ioeua\n",
            "iouae\n",
            "iouea\n",
            "iuaeo\n",
            "iuaoe\n",
            "iueao\n",
            "iueoa\n",
            "iuoae\n",
            "iuoea\n",
            "oaeiu\n",
            "oaeui\n",
            "oaieu\n",
            "oaiue\n",
            "oauei\n",
            "oauie\n",
            "oeaiu\n",
            "oeaui\n",
            "oeiau\n",
            "oeiua\n",
            "oeuai\n",
            "oeuia\n",
            "oiaeu\n",
            "oiaue\n",
            "oieau\n",
            "oieua\n",
            "oiuae\n",
            "oiuea\n",
            "ouaei\n",
            "ouaie\n",
            "oueai\n",
            "oueia\n",
            "ouiae\n",
            "ouiea\n",
            "uaeio\n",
            "uaeoi\n",
            "uaieo\n",
            "uaioe\n",
            "uaoei\n",
            "uaoie\n",
            "ueaio\n",
            "ueaoi\n",
            "ueiao\n",
            "ueioa\n",
            "ueoai\n",
            "ueoia\n",
            "uiaeo\n",
            "uiaoe\n",
            "uieao\n",
            "uieoa\n",
            "uioae\n",
            "uioea\n",
            "uoaei\n",
            "uoaie\n",
            "uoeai\n",
            "uoeia\n",
            "uoiae\n",
            "uoiea\n"
          ]
        }
      ],
      "source": [
        "# Referenced: https://www.geeksforgeeks.org/python-itertools-permutations/\n",
        "from itertools import permutations\n",
        "\n",
        "characters = ['a', 'e', 'i', 'o', 'u']\n",
        "\n",
        "# Generate permutations and print each as a string\n",
        "for perm in permutations(characters):\n",
        "    print(''.join(perm))"
      ]
    },
    {
      "cell_type": "markdown",
      "metadata": {
        "id": "xTjb7onLTBCm"
      },
      "source": [
        "3. Write a Python program that removes and prints every third number from a list of numbers until the list is empty."
      ]
    },
    {
      "cell_type": "code",
      "execution_count": 20,
      "metadata": {
        "id": "LHWPRiSZTCsK"
      },
      "outputs": [
        {
          "name": "stdout",
          "output_type": "stream",
          "text": [
            "3\n",
            "6\n",
            "9\n",
            "2\n",
            "7\n",
            "1\n",
            "8\n",
            "5\n",
            "10\n",
            "4\n"
          ]
        }
      ],
      "source": [
        "def remove_and_print_third(numbers):\n",
        "    index = 2  # Start with index 2 which is third element since index starts from 0\n",
        "    while numbers:\n",
        "        index = index % len(numbers)\n",
        "        print(numbers.pop(index))\n",
        "        index += 2  # Move to the next third element\n",
        "\n",
        "numbers = [1, 2, 3, 4, 5, 6, 7, 8, 9, 10]\n",
        "remove_and_print_third(numbers.copy())  "
      ]
    },
    {
      "cell_type": "markdown",
      "metadata": {
        "id": "c-VSrr0nTL_S"
      },
      "source": [
        "12. Write a Python program that generates a list of all possible permutations from a given collection of distinct numbers."
      ]
    },
    {
      "cell_type": "code",
      "execution_count": 21,
      "metadata": {
        "id": "NVkCGj8tTMa8"
      },
      "outputs": [
        {
          "name": "stdout",
          "output_type": "stream",
          "text": [
            "[1, 2, 3]\n",
            "[1, 3, 2]\n",
            "[2, 1, 3]\n",
            "[2, 3, 1]\n",
            "[3, 1, 2]\n",
            "[3, 2, 1]\n"
          ]
        }
      ],
      "source": [
        "from itertools import permutations\n",
        "\n",
        "def generate_permutations(n):\n",
        "    perms = permutations(numbers)\n",
        "\n",
        "    for perm in perms:\n",
        "        print(list(perm))\n",
        "\n",
        "\n",
        "numbers = [1, 2, 3]\n",
        "generate_permutations(numbers)"
      ]
    },
    {
      "cell_type": "markdown",
      "metadata": {
        "id": "K5FJbUzKTM_s"
      },
      "source": [
        "16. Write a Python program to get the third side of a right-angled triangle from two given sides."
      ]
    },
    {
      "cell_type": "code",
      "execution_count": 23,
      "metadata": {
        "id": "86dyRLOLTS5i"
      },
      "outputs": [
        {
          "name": "stdout",
          "output_type": "stream",
          "text": [
            "The length of the third side (hypotenuse) is: 5.0\n"
          ]
        }
      ],
      "source": [
        "def get_third_side(a, b):\n",
        "    third_side = (a**2 + b**2)**0.5\n",
        "    return third_side\n",
        "\n",
        "a = 3\n",
        "b = 4\n",
        "c = get_third_side(a, b)\n",
        "print(f\"The length of the third side (hypotenuse) is: {c}\")"
      ]
    },
    {
      "cell_type": "markdown",
      "metadata": {
        "id": "UQJhVZ6cTTdF"
      },
      "source": [
        "11. Write a Python program to find the indexes of numbers in a given list below a given threshold.\n",
        "Original list:\n",
        "[0, 12, 45, 3, 4923, 322, 105, 29, 15, 39, 55]\n",
        "Threshold: 100\n",
        "Check the indexes of numbers of the said list below the given threshold:\n",
        "[0, 1, 2, 3, 7, 8, 9, 10]\n",
        "Original list:\n",
        "[0, 12, 4, 3, 49, 9, 1, 5, 3]\n",
        "Threshold: 10\n",
        "Check the indexes of numbers of the said list below the given threshold:\n",
        "[0, 2, 3, 5, 6, 7, 8]"
      ]
    },
    {
      "cell_type": "code",
      "execution_count": 24,
      "metadata": {
        "id": "gYARvP5zTgE3"
      },
      "outputs": [
        {
          "name": "stdout",
          "output_type": "stream",
          "text": [
            "Original list: [0, 12, 45, 3, 4923, 322, 105, 29, 15, 39, 55]\n",
            "Threshold: 100\n",
            "Indexes of numbers below the threshold: [0, 1, 2, 3, 7, 8, 9, 10]\n",
            "Original list: [0, 12, 4, 3, 49, 9, 1, 5, 3]\n",
            "Threshold: 10\n",
            "Indexes of numbers below the threshold: [0, 2, 3, 5, 6, 7, 8]\n"
          ]
        }
      ],
      "source": [
        "def find_indexes_below_threshold(numbers, threshold):\n",
        "    indexes = []\n",
        "    for index, num in enumerate(numbers):\n",
        "        if num < threshold:\n",
        "            indexes.append(index)\n",
        "    return indexes\n",
        "\n",
        "list1 = [0, 12, 45, 3, 4923, 322, 105, 29, 15, 39, 55]\n",
        "threshold1 = 100\n",
        "indexes1 = find_indexes_below_threshold(list1, threshold1)\n",
        "print(f\"Original list: {list1}\")\n",
        "print(f\"Threshold: {threshold1}\")\n",
        "print(f\"Indexes of numbers below the threshold: {indexes1}\")\n",
        "\n",
        "list2 = [0, 12, 4, 3, 49, 9, 1, 5, 3]\n",
        "threshold2 = 10\n",
        "indexes2 = find_indexes_below_threshold(list2, threshold2)\n",
        "print(f\"Original list: {list2}\")\n",
        "print(f\"Threshold: {threshold2}\")\n",
        "print(f\"Indexes of numbers below the threshold: {indexes2}\")\n"
      ]
    },
    {
      "cell_type": "markdown",
      "metadata": {
        "id": "AZQhfWblTfl4"
      },
      "source": [
        "12. Write a Python program to check whether the given strings are palindromes or not. Return True otherwise False.\n",
        "Input:\n",
        "['palindrome', 'madamimadam', '', 'foo', 'eyes']\n",
        "Output:\n",
        "[False, True, True, False, False]"
      ]
    },
    {
      "cell_type": "code",
      "execution_count": 25,
      "metadata": {
        "id": "-KScZqkCTjkI"
      },
      "outputs": [
        {
          "name": "stdout",
          "output_type": "stream",
          "text": [
            "Is radar a palindrome? True\n",
            "Is hello a palindrome? False\n"
          ]
        }
      ],
      "source": [
        "def check_palindrome(word):\n",
        "    if word == word[::-1]:\n",
        "        return True\n",
        "    return False\n",
        "\n",
        "word1 = \"radar\"\n",
        "print(f\"Is {word1} a palindrome? {check_palindrome(word1)}\")\n",
        "word2 = \"hello\"\n",
        "print(f\"Is {word2} a palindrome? {check_palindrome(word2)}\")"
      ]
    },
    {
      "cell_type": "markdown",
      "metadata": {
        "id": "wJ20ZfugTzA6"
      },
      "source": [
        "12. Write a Python program to find the first non-repeated element in a list."
      ]
    },
    {
      "cell_type": "code",
      "execution_count": 26,
      "metadata": {
        "id": "nlk_jaUoUWW4"
      },
      "outputs": [
        {
          "name": "stdout",
          "output_type": "stream",
          "text": [
            "Original list: [1, 2, 3, 4, 5, 6, 1, 2, 3]\n",
            "First non-repeated element: 4\n",
            "Original list: [1, 2, 3, 4, 5, 1, 2, 3, 4, 5]\n",
            "First non-repeated element: None\n"
          ]
        }
      ],
      "source": [
        "def find_first_non_repeated(numbers):\n",
        "    counts = {}\n",
        "    for num in numbers:\n",
        "        if num in counts:\n",
        "            counts[num] += 1\n",
        "        else:\n",
        "            counts[num] = 1\n",
        "\n",
        "    for num in numbers:\n",
        "        if counts[num] == 1:\n",
        "            return num\n",
        "        \n",
        "    return None\n",
        "\n",
        "numbers1 = [1, 2, 3, 4, 5, 6, 1, 2, 3]\n",
        "print(f\"Original list: {numbers1}\")\n",
        "print(f\"First non-repeated element: {find_first_non_repeated(numbers1)}\")\n",
        "\n",
        "numbers2 = [1, 2, 3, 4, 5, 1, 2, 3, 4, 5]\n",
        "print(f\"Original list: {numbers2}\")\n",
        "print(f\"First non-repeated element: {find_first_non_repeated(numbers2)}\")"
      ]
    },
    {
      "cell_type": "markdown",
      "metadata": {
        "id": "Co_7u382T6uW"
      },
      "source": [
        "14. Write a Python function to check whether a string is a pangram or not.\n",
        "Note : Pangrams are words or sentences containing every letter of the alphabet at least once.\n",
        "For example : \"The quick brown fox jumps over the lazy dog\""
      ]
    },
    {
      "cell_type": "code",
      "execution_count": 27,
      "metadata": {
        "id": "aKQwQSXhT7ja"
      },
      "outputs": [
        {
          "name": "stdout",
          "output_type": "stream",
          "text": [
            "Is the sentence a pangram? True\n",
            "Is the sentence a pangram? False\n"
          ]
        }
      ],
      "source": [
        "def check_pangram(sentence):\n",
        "    alphabet = \"abcdefghijklmnopqrstuvwxyz\"\n",
        "    for letter in alphabet:\n",
        "        if letter not in sentence.lower():\n",
        "            return False\n",
        "    return True\n",
        "\n",
        "sentence1 = \"The quick brown fox jumps over the lazy dog\"\n",
        "print(f\"Is the sentence a pangram? {check_pangram(sentence1)}\")\n",
        "\n",
        "sentence2 = \"The quick brown fox jumps over the lazy cat\"\n",
        "print(f\"Is the sentence a pangram? {check_pangram(sentence2)}\")"
      ]
    },
    {
      "cell_type": "markdown",
      "metadata": {
        "id": "ftjkWyznUASU"
      },
      "source": [
        "15. Write a Python program to get the maximum and minimum values of a dictionary."
      ]
    },
    {
      "cell_type": "code",
      "execution_count": 28,
      "metadata": {
        "id": "kdT0B9FxUVZ8"
      },
      "outputs": [
        {
          "name": "stdout",
          "output_type": "stream",
          "text": [
            "Dictionary: {'a': 1, 'b': 2, 'c': 3}\n",
            "Max key: c\n",
            "Min key: a\n",
            "Dictionary: {'a': 3, 'b': 2, 'c': 1}\n",
            "Max key: a\n",
            "Min key: c\n"
          ]
        }
      ],
      "source": [
        "def max_min_dict(dictionary):\n",
        "    max_key = max(dictionary, key=dictionary.get)\n",
        "    min_key = min(dictionary, key=dictionary.get)\n",
        "    return max_key, min_key\n",
        "\n",
        "dictionary1 = {'a': 1, 'b': 2, 'c': 3}\n",
        "print(f\"Dictionary: {dictionary1}\")\n",
        "max_key1, min_key1 = max_min_dict(dictionary1)\n",
        "print(f\"Max key: {max_key1}\")\n",
        "print(f\"Min key: {min_key1}\")\n",
        "\n",
        "dictionary2 = {'a': 3, 'b': 2, 'c': 1}\n",
        "print(f\"Dictionary: {dictionary2}\")\n",
        "max_key2, min_key2 = max_min_dict(dictionary2)\n",
        "print(f\"Max key: {max_key2}\")\n",
        "print(f\"Min key: {min_key2}\")"
      ]
    },
    {
      "cell_type": "markdown",
      "metadata": {
        "id": "_-tvWg92UDvA"
      },
      "source": [
        "4. Write a Python program to construct the following pattern, using a nested for loop.\n",
        "\n",
        "\n",
        "```\n",
        "*\n",
        "* *\n",
        "* * *\n",
        "* * * *\n",
        "* * * * *\n",
        "* * * *\n",
        "* * *\n",
        "* *\n",
        "*\n",
        "\n",
        "```\n",
        "\n"
      ]
    },
    {
      "cell_type": "code",
      "execution_count": 30,
      "metadata": {
        "id": "embVUC8cUdVk"
      },
      "outputs": [
        {
          "name": "stdout",
          "output_type": "stream",
          "text": [
            "* \n",
            "* * \n",
            "* * * \n",
            "* * * * \n",
            "* * * * * \n",
            "* * * * \n",
            "* * * \n",
            "* * \n",
            "* \n"
          ]
        }
      ],
      "source": [
        "def print_pattern(rows):\n",
        "    # Upper part of the pattern\n",
        "    for i in range(1, rows + 1):\n",
        "        for j in range(1, i + 1):\n",
        "            print(\"*\", end=\" \")\n",
        "        print()\n",
        "\n",
        "    # Lower part of the pattern\n",
        "    for i in range(rows - 1, 0, -1):\n",
        "        for j in range(1, i + 1):\n",
        "            print(\"*\", end=\" \")\n",
        "        print()\n",
        "\n",
        "# Number of rows\n",
        "rows = 5\n",
        "print_pattern(rows)"
      ]
    },
    {
      "cell_type": "markdown",
      "metadata": {
        "id": "Fhsqpnl3UdqU"
      },
      "source": [
        "6. Write a Python program to create an intersection of sets."
      ]
    },
    {
      "cell_type": "code",
      "execution_count": 31,
      "metadata": {
        "id": "Ibx9KWwFUeK2"
      },
      "outputs": [
        {
          "name": "stdout",
          "output_type": "stream",
          "text": [
            "Intersection of set1 and set2: {3, 4, 5}\n"
          ]
        }
      ],
      "source": [
        "def intersection_of_sets(set1, set2):\n",
        "    intersection_set = set1.intersection(set2)\n",
        "    return intersection_set\n",
        "\n",
        "set1 = {1, 2, 3, 4, 5}\n",
        "set2 = {3, 4, 5, 6, 7}\n",
        "\n",
        "intersection = intersection_of_sets(set1, set2)\n",
        "print(f\"Intersection of set1 and set2: {intersection}\")"
      ]
    },
    {
      "cell_type": "markdown",
      "metadata": {
        "id": "lpyvKqPeU_c-"
      },
      "source": [
        "21. Write a Python program to replace the last value of tuples in a list.\n",
        "Sample list: [(10, 20, 40), (40, 50, 60), (70, 80, 90)]\n",
        "Expected Output: [(10, 20, 100), (40, 50, 100), (70, 80, 100)]"
      ]
    },
    {
      "cell_type": "code",
      "execution_count": 33,
      "metadata": {
        "id": "xHC-fumsU--i"
      },
      "outputs": [
        {
          "name": "stdout",
          "output_type": "stream",
          "text": [
            "Expected Output: [(10, 20, 100), (40, 50, 100), (70, 80, 100)]\n"
          ]
        }
      ],
      "source": [
        "def replace_last_value(tuples_list, new_value):\n",
        "    modified_list = [tuple(t[:-1]) + (new_value,) for t in tuples_list]\n",
        "    return modified_list\n",
        "\n",
        "sample_list = [(10, 20, 40), (40, 50, 60), (70, 80, 90)]\n",
        "new_value = 100\n",
        "\n",
        "modified_list = replace_last_value(sample_list, new_value)\n",
        "print(\"Expected Output:\", modified_list)\n"
      ]
    }
  ],
  "metadata": {
    "colab": {
      "provenance": []
    },
    "kernelspec": {
      "display_name": "Python 3",
      "name": "python3"
    },
    "language_info": {
      "codemirror_mode": {
        "name": "ipython",
        "version": 3
      },
      "file_extension": ".py",
      "mimetype": "text/x-python",
      "name": "python",
      "nbconvert_exporter": "python",
      "pygments_lexer": "ipython3",
      "version": "3.12.2"
    }
  },
  "nbformat": 4,
  "nbformat_minor": 0
}
