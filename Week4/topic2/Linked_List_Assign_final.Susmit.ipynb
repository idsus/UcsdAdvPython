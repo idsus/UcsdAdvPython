{
  "cells": [
    {
      "cell_type": "markdown",
      "metadata": {
        "id": "af0fce85"
      },
      "source": [
        "# Linked List\n"
      ]
    },
    {
      "cell_type": "markdown",
      "metadata": {
        "id": "espI1YcjEM53"
      },
      "source": [
        "## Linked Lists\n",
        "\n",
        "Implementing operations on linked lists is a staple of programming classes and technical interviews.\n",
        "\n",
        "I resist them because it is unlikely that you will ever have to implement a linked list in your professional work. And if you do, someone has made a bad decision.\n",
        "\n",
        "However, they can be good études, that is, pieces that you practice in order to learn, but never perform.\n"
      ]
    },
    {
      "cell_type": "markdown",
      "metadata": {
        "id": "_cZR5S1nEdKd"
      },
      "source": []
    },
    {
      "cell_type": "markdown",
      "metadata": {
        "id": "jmSUBo9RYRWO"
      },
      "source": [
        "**BEST DEFINITION:**\n",
        "\n",
        "A Python linked list is an abstract data type in Python that allows users to organize information in nodes, which then link to another node in the list. This makes it easier to insert and remove information without changing the index of other items in the list.\n"
      ]
    },
    {
      "cell_type": "code",
      "execution_count": 746,
      "metadata": {
        "id": "375EBQ9eED7Q"
      },
      "outputs": [],
      "source": [
        "a = [1, 2, 3, 4, 5, 6]"
      ]
    },
    {
      "cell_type": "code",
      "execution_count": 747,
      "metadata": {
        "id": "9Y0N04QfEkuz"
      },
      "outputs": [],
      "source": [
        "# Examples of why linked lists are important\n",
        "\n",
        "a[0]\n",
        "a[3]\n",
        "\n",
        "a.remove(4)  # remvoed then it changed the index"
      ]
    },
    {
      "cell_type": "code",
      "execution_count": 748,
      "metadata": {
        "id": "OMHRcgaUEvVJ"
      },
      "outputs": [
        {
          "data": {
            "text/plain": [
              "5"
            ]
          },
          "execution_count": 748,
          "metadata": {},
          "output_type": "execute_result"
        }
      ],
      "source": [
        "a[3]  # number returned is changed"
      ]
    },
    {
      "cell_type": "markdown",
      "metadata": {
        "id": "hE9JqVUzE9qg"
      },
      "source": [
        "As we consider alternatives, some of the factors to keep in mind are:\n",
        "\n",
        "- Performance in terms of time and space.\n",
        "\n",
        "- Readability and demonstrably correctness.\n",
        "\n",
        "In general, performance should be asymptotically efficient; for example, if there is a constant time solution, a linear solution would not be acceptable.\n",
        "But we might be willing to pay some overhead to achieve bulletproof correctness.\n"
      ]
    },
    {
      "cell_type": "markdown",
      "metadata": {
        "id": "7aa7d3f6"
      },
      "source": [
        "Here's the class we'll use to represent the nodes in a list.\n"
      ]
    },
    {
      "cell_type": "code",
      "execution_count": 749,
      "metadata": {
        "id": "c3eda892"
      },
      "outputs": [],
      "source": [
        "class Node:\n",
        "    def __init__(self, data, next=None):\n",
        "        self.data = data\n",
        "        self.next = next\n",
        "\n",
        "    def __repr__(self):\n",
        "        return f\"Node({self.data}, {repr(self.next)})\""
      ]
    },
    {
      "cell_type": "markdown",
      "metadata": {
        "id": "bbf5ad6f"
      },
      "source": [
        "We can create nodes like this:\n"
      ]
    },
    {
      "cell_type": "code",
      "execution_count": 750,
      "metadata": {
        "colab": {
          "base_uri": "https://localhost:8080/"
        },
        "id": "3eb18535",
        "outputId": "39855b7b-2cbc-4c30-992d-ba85619598e0",
        "tags": []
      },
      "outputs": [
        {
          "data": {
            "text/plain": [
              "Node(1, None)"
            ]
          },
          "execution_count": 750,
          "metadata": {},
          "output_type": "execute_result"
        }
      ],
      "source": [
        "node1 = Node(1)\n",
        "node2 = Node(2)\n",
        "node3 = Node(3)\n",
        "\n",
        "node1"
      ]
    },
    {
      "cell_type": "markdown",
      "metadata": {
        "id": "fdfd0222"
      },
      "source": [
        "And then link them up, like this:\n"
      ]
    },
    {
      "cell_type": "code",
      "execution_count": 751,
      "metadata": {
        "id": "80748b5d",
        "tags": []
      },
      "outputs": [],
      "source": [
        "node1.next = node2\n",
        "node2.next = node3"
      ]
    },
    {
      "cell_type": "code",
      "execution_count": 752,
      "metadata": {
        "colab": {
          "base_uri": "https://localhost:8080/"
        },
        "id": "29a7ebcc",
        "outputId": "4bc284c1-a00f-439a-b0eb-84f051d3e880"
      },
      "outputs": [
        {
          "data": {
            "text/plain": [
              "Node(1, Node(2, Node(3, None)))"
            ]
          },
          "execution_count": 752,
          "metadata": {},
          "output_type": "execute_result"
        }
      ],
      "source": [
        "node1"
      ]
    },
    {
      "cell_type": "markdown",
      "metadata": {
        "id": "c0568a9b"
      },
      "source": [
        "There are two ways to think about what `node1` is:\n",
        "\n",
        "- It is \"just\" a node object, which happens to contain a link to another node.\n",
        "\n",
        "- It is the first node in a linked list of nodes.\n",
        "\n",
        "When we pass a node as a parameter, sometimes we think of it as a node and sometimes we think of it as the beginning of a list.\n"
      ]
    },
    {
      "cell_type": "markdown",
      "metadata": {
        "id": "4udYc8vkOFxY"
      },
      "source": [
        "I know it is easy to look at node1 = 2 and think that it's all that it means but the data inside a node could be ANYTHING. It could be data frames it could be pictures. IT COULD BE ANYTHING. And most likely tou access linked lists everytime you are looking through a collection of images online.\n"
      ]
    },
    {
      "cell_type": "markdown",
      "metadata": {
        "id": "f21575f6"
      },
      "source": [
        "## LinkedList objects\n",
        "\n",
        "For some operations, it will be convenient to have another object that represents the whole list (as opposed to one of its nodes).\n",
        "\n",
        "Here's the class definition.\n"
      ]
    },
    {
      "cell_type": "code",
      "execution_count": 753,
      "metadata": {
        "id": "f1c32da2"
      },
      "outputs": [],
      "source": [
        "class LinkedList:\n",
        "    def __init__(self, head=None):\n",
        "        self.head = head\n",
        "\n",
        "    def __repr__(self):\n",
        "        return f\"LinkedList({repr(self.head)})\""
      ]
    },
    {
      "cell_type": "markdown",
      "metadata": {
        "id": "c41fb536"
      },
      "source": [
        "If we create a `LinkedList` with a reference to `node1`, we can think of the result as a list with three elements.\n"
      ]
    },
    {
      "cell_type": "code",
      "execution_count": 754,
      "metadata": {
        "colab": {
          "base_uri": "https://localhost:8080/"
        },
        "id": "f8def755",
        "outputId": "e9c92b33-d671-4eea-f4f9-eed34bb45db4",
        "tags": []
      },
      "outputs": [
        {
          "data": {
            "text/plain": [
              "LinkedList(Node(1, Node(2, Node(3, None))))"
            ]
          },
          "execution_count": 754,
          "metadata": {},
          "output_type": "execute_result"
        }
      ],
      "source": [
        "t = LinkedList(node1)\n",
        "t"
      ]
    },
    {
      "cell_type": "markdown",
      "metadata": {
        "id": "e38e3c31"
      },
      "source": [
        "## Search\n"
      ]
    },
    {
      "cell_type": "markdown",
      "metadata": {
        "id": "n5kcyaBVJEio"
      },
      "source": [
        "**Exercise 1:** Write a function called `find2` that takes a `LinkedList` and a target value; if the target value appears in the `LinkedList`, it should return the `Node` that contains it; otherwise it should return `None`. Try to do this without adding attributes to `Node` class\n"
      ]
    },
    {
      "cell_type": "code",
      "execution_count": 755,
      "metadata": {
        "id": "V0GTWlh5S0im"
      },
      "outputs": [
        {
          "name": "stdout",
          "output_type": "stream",
          "text": [
            "Found node with value: 2\n"
          ]
        }
      ],
      "source": [
        "class Node:\n",
        "    def __init__(self, data, next=None):\n",
        "        self.data = data\n",
        "        self.next = next\n",
        "\n",
        "    def __repr__(self):\n",
        "        return f\"Node({self.data}, {repr(self.next)})\"\n",
        "\n",
        "\n",
        "class LinkedList:\n",
        "    def __init__(self, head=None):\n",
        "        self.head = head\n",
        "\n",
        "    def __repr__(self):\n",
        "        return f\"LinkedList({repr(self.head)})\"\n",
        "\n",
        "\n",
        "def find2(linked_list, target):\n",
        "    current = linked_list.head\n",
        "    while current is not None:\n",
        "        if current.data == target:\n",
        "            return current\n",
        "        current = current.next\n",
        "    return None\n",
        "\n",
        "\n",
        "if __name__ == \"__main__\":\n",
        "    # Create nodes\n",
        "    node1 = Node(1)\n",
        "    node2 = Node(2)\n",
        "    node3 = Node(3)\n",
        "\n",
        "    # Link nodes\n",
        "    node1.next = node2\n",
        "    node2.next = node3\n",
        "\n",
        "    # Create linked list\n",
        "    linked_list = LinkedList(node1)\n",
        "\n",
        "    # Search for a value in the linked list\n",
        "    target_value = 2\n",
        "    result_node = find2(linked_list, target_value)\n",
        "    if result_node:\n",
        "        print(f\"Found node with value: {result_node.data}\")\n",
        "    else:\n",
        "        print(\"Value not found\")"
      ]
    },
    {
      "cell_type": "code",
      "execution_count": 756,
      "metadata": {
        "id": "cjtrb6H-Luiu"
      },
      "outputs": [
        {
          "data": {
            "text/plain": [
              "1"
            ]
          },
          "execution_count": 756,
          "metadata": {},
          "output_type": "execute_result"
        }
      ],
      "source": [
        "# use data to get information on the node\n",
        "node1.data"
      ]
    },
    {
      "cell_type": "code",
      "execution_count": 757,
      "metadata": {
        "id": "415369b0"
      },
      "outputs": [
        {
          "data": {
            "text/plain": [
              "Node(1, Node(2, Node(3, None)))"
            ]
          },
          "execution_count": 757,
          "metadata": {},
          "output_type": "execute_result"
        }
      ],
      "source": [
        "find2(t, 1)"
      ]
    },
    {
      "cell_type": "code",
      "execution_count": 758,
      "metadata": {
        "id": "320aa238"
      },
      "outputs": [
        {
          "data": {
            "text/plain": [
              "Node(3, None)"
            ]
          },
          "execution_count": 758,
          "metadata": {},
          "output_type": "execute_result"
        }
      ],
      "source": [
        "find2(t, 3)"
      ]
    },
    {
      "cell_type": "code",
      "execution_count": 759,
      "metadata": {
        "id": "70165057"
      },
      "outputs": [],
      "source": [
        "find2(t, 5)"
      ]
    },
    {
      "cell_type": "markdown",
      "metadata": {
        "id": "XhPsAfScHBk3"
      },
      "source": [
        "These websites will help you. In class I wasn't able to write a function (that was not an attribute of the linkedlist class). But I have used the links below and some good ole finger grease to write a function that does it. Usually it would be step one to find a function that does it and then include it as an attribute.\n"
      ]
    },
    {
      "cell_type": "markdown",
      "metadata": {
        "id": "UNx2Ls2zG7rU"
      },
      "source": [
        "https://www.tutorialspoint.com/python_data_structure/python_linked_lists.htm#Links to an external site.\n",
        "\n",
        "https://towardsdatascience.com/python-linked-lists-c3622205da81Links to an external site.\n",
        "\n",
        "https://www.geeksforgeeks.org/python-program-for-searching-an-element-in-a-linked-list/Links to an external site.\n",
        "\n",
        "https://builtin.com/data-science/python-linked-listLinks to an external site.\n",
        "\n",
        "https://www.alphacodingskills.com/python/ds/python-linked-list-search-an-element.phpLinks to an external site.\n"
      ]
    },
    {
      "cell_type": "markdown",
      "metadata": {
        "id": "Eu-NuQ1gJF-P"
      },
      "source": [
        "**Exercise 2:** Add, as an attribute called `find` , the function you wrote to a class called `LinkedList2` that includes the functionality of your class called `LinkedList` and does the same thing as your function above but acts as an attribute of your class. At this point you may add functionality to your `Node` class to make your code more simple.\n",
        "\n",
        "You can store a linkedlist in `t2` for clarity. This answer should be in more clearly in links above. You do not have to include all the functionalities listed under the Node or LinkedList Class at the moment. A\n"
      ]
    },
    {
      "cell_type": "code",
      "execution_count": 760,
      "metadata": {
        "id": "bY1aQ8KOOqj-"
      },
      "outputs": [
        {
          "name": "stdout",
          "output_type": "stream",
          "text": [
            "Found node with value: 2\n"
          ]
        }
      ],
      "source": [
        "class Node2:\n",
        "    # include old attributes or add new ones to make your life easiery\n",
        "    def __init__(self, data, next=None):\n",
        "        self.data = data\n",
        "        self.next = next\n",
        "\n",
        "    def __repr__(self):\n",
        "        return f\"Node2({self.data}, {repr(self.next)})\"\n",
        "\n",
        "\n",
        "class LinkedList2:\n",
        "    def __init__(self, head=None):\n",
        "        self.head = head\n",
        "\n",
        "    def __repr__(self):\n",
        "        return f\"LinkedList2({repr(self.head)})\"\n",
        "\n",
        "    def find(self, target):\n",
        "        # Find the first node with the given value\n",
        "        current = self.head\n",
        "        # Traverse the linked list\n",
        "        while current is not None:\n",
        "            if current.data == target:\n",
        "                return current\n",
        "            current = current.next\n",
        "        return None\n",
        "\n",
        "\n",
        "# Example usage\n",
        "if __name__ == \"__main__\":\n",
        "    # Create nodes\n",
        "    node1 = Node2(1)\n",
        "    node2 = Node2(2)\n",
        "    node3 = Node2(3)\n",
        "    node4 = Node2(4)\n",
        "    node5 = Node2(5)\n",
        "\n",
        "    # Link nodes\n",
        "    node1.next = node2\n",
        "    node2.next = node3\n",
        "\n",
        "    # Create linked list\n",
        "    t2 = LinkedList2(node1)\n",
        "\n",
        "    # Search for a value in the linked list using the `find` method\n",
        "    target_value = 2\n",
        "    result_node = t2.find(target_value)\n",
        "    if result_node:\n",
        "        print(\n",
        "            f\"Found node with value: {result_node.data}\"\n",
        "        )  # Access the data of the found node\n",
        "    else:\n",
        "        print(\"Value not found\")"
      ]
    },
    {
      "cell_type": "code",
      "execution_count": 761,
      "metadata": {
        "colab": {
          "base_uri": "https://localhost:8080/"
        },
        "id": "PbMkw5ipO7Jm",
        "outputId": "7d53a87c-1514-430c-9d2b-54eb0092c5d0"
      },
      "outputs": [
        {
          "data": {
            "text/plain": [
              "Node2(1, None)"
            ]
          },
          "execution_count": 761,
          "metadata": {},
          "output_type": "execute_result"
        }
      ],
      "source": [
        "nodeA = Node2(1)\n",
        "nodeB = Node2(2)\n",
        "nodeC = Node2(3)\n",
        "\n",
        "nodeA"
      ]
    },
    {
      "cell_type": "code",
      "execution_count": 762,
      "metadata": {
        "id": "TLYreJexPqw8"
      },
      "outputs": [],
      "source": [
        "nodeA.next = nodeB\n",
        "nodeB.next = nodeC"
      ]
    },
    {
      "cell_type": "code",
      "execution_count": 763,
      "metadata": {
        "id": "oavKKxnXOs5h"
      },
      "outputs": [],
      "source": [
        "class LinkedList2:\n",
        "    def __init__(self, head=None):\n",
        "        self.head = head\n",
        "\n",
        "    def __repr__(self):\n",
        "        return f\"LinkedList2({repr(self.head)})\"\n",
        "\n",
        "    def find(self, target):\n",
        "        current = self.head\n",
        "        while current is not None:\n",
        "            if current.data == target:\n",
        "                return current\n",
        "            current = current.next\n",
        "        return None"
      ]
    },
    {
      "cell_type": "code",
      "execution_count": 764,
      "metadata": {
        "id": "a5RqMdTvQl1K"
      },
      "outputs": [],
      "source": [
        "t2 = LinkedList2(nodeA)"
      ]
    },
    {
      "cell_type": "code",
      "execution_count": 765,
      "metadata": {
        "colab": {
          "base_uri": "https://localhost:8080/"
        },
        "id": "USLajOwjKKa5",
        "outputId": "761844e2-240f-469b-e6c3-260dc6a6bd4e"
      },
      "outputs": [
        {
          "data": {
            "text/plain": [
              "Node2(1, Node2(2, Node2(3, None)))"
            ]
          },
          "execution_count": 765,
          "metadata": {},
          "output_type": "execute_result"
        }
      ],
      "source": [
        "t2.find(1)"
      ]
    },
    {
      "cell_type": "code",
      "execution_count": 766,
      "metadata": {
        "colab": {
          "base_uri": "https://localhost:8080/"
        },
        "id": "7oOq5BfjKKa6",
        "outputId": "128939d6-c458-430f-a212-c87ee43151b3"
      },
      "outputs": [
        {
          "data": {
            "text/plain": [
              "Node2(3, None)"
            ]
          },
          "execution_count": 766,
          "metadata": {},
          "output_type": "execute_result"
        }
      ],
      "source": [
        "t2.find(3)"
      ]
    },
    {
      "cell_type": "code",
      "execution_count": 767,
      "metadata": {
        "id": "89ccdQx7KKa6"
      },
      "outputs": [],
      "source": [
        "t2.find(5)"
      ]
    },
    {
      "cell_type": "code",
      "execution_count": 768,
      "metadata": {
        "id": "EmEO4MtYQ55w"
      },
      "outputs": [],
      "source": [
        "# Try your find2 function on your new type of node does it work the same way\n",
        "# you may especially if borrowing code from links have to be very careful about what you call your attributes\n",
        "\n",
        "\n",
        "find2(t2, 5)"
      ]
    },
    {
      "cell_type": "markdown",
      "metadata": {
        "id": "44af708a"
      },
      "source": [
        "## Push and Pop\n",
        "\n",
        "Adding and removing elements from the _left_ side of a linked list is relatively easy:\n"
      ]
    },
    {
      "cell_type": "markdown",
      "metadata": {},
      "source": [
        "Definition: \"push\" adds an element to the beginning, while \"pop\" removes the element from the beginning.\n"
      ]
    },
    {
      "cell_type": "code",
      "execution_count": 769,
      "metadata": {
        "id": "ea6u-ETtLe89"
      },
      "outputs": [],
      "source": [
        "t3 = t2"
      ]
    },
    {
      "cell_type": "code",
      "execution_count": 770,
      "metadata": {
        "id": "7b522c71",
        "tags": []
      },
      "outputs": [],
      "source": [
        "def lpush(t, value):\n",
        "    t.head = Node(value, t.head)"
      ]
    },
    {
      "cell_type": "code",
      "execution_count": 771,
      "metadata": {
        "colab": {
          "base_uri": "https://localhost:8080/"
        },
        "id": "oehfu667Ujlk",
        "outputId": "37d6d8b0-efea-4361-ab5e-adaf42b50d2f"
      },
      "outputs": [
        {
          "data": {
            "text/plain": [
              "LinkedList2(Node2(1, Node2(2, Node2(3, None))))"
            ]
          },
          "execution_count": 771,
          "metadata": {},
          "output_type": "execute_result"
        }
      ],
      "source": [
        "t2"
      ]
    },
    {
      "cell_type": "code",
      "execution_count": 772,
      "metadata": {
        "colab": {
          "base_uri": "https://localhost:8080/"
        },
        "id": "iSAhZeB0Uoev",
        "outputId": "1e4c5b98-cc9c-472f-e889-34c9325e1b2a"
      },
      "outputs": [
        {
          "data": {
            "text/plain": [
              "LinkedList2(Node2(1, Node2(2, Node2(3, None))))"
            ]
          },
          "execution_count": 772,
          "metadata": {},
          "output_type": "execute_result"
        }
      ],
      "source": [
        "t3"
      ]
    },
    {
      "cell_type": "code",
      "execution_count": 773,
      "metadata": {
        "id": "9ee37b46",
        "tags": []
      },
      "outputs": [
        {
          "data": {
            "text/plain": [
              "LinkedList2(Node([7, 14, 21], Node([3, 5, 7], Node([1, 2, 3], Node2(1, Node2(2, Node2(3, None)))))))"
            ]
          },
          "execution_count": 773,
          "metadata": {},
          "output_type": "execute_result"
        }
      ],
      "source": [
        "# Showing  you anything can go in linked lists\n",
        "\n",
        "lpush(t3, [1, 2, 3])\n",
        "lpush(t3, [3, 5, 7])\n",
        "lpush(t3, [7, 14, 21])\n",
        "\n",
        "t3"
      ]
    },
    {
      "cell_type": "code",
      "execution_count": 774,
      "metadata": {
        "id": "VorDjQTsY9A0"
      },
      "outputs": [
        {
          "data": {
            "text/plain": [
              "LinkedList2(Node([7, 14, 21], Node([3, 5, 7], Node([1, 2, 3], Node2(1, Node2(2, Node2(3, None)))))))"
            ]
          },
          "execution_count": 774,
          "metadata": {},
          "output_type": "execute_result"
        }
      ],
      "source": [
        "# Remember that setting variables only links an object to a variable\n",
        "# so even though we are changing t3 it actually impacts the real object t2\n",
        "# this is different with dataframes\n",
        "\n",
        "t2"
      ]
    },
    {
      "cell_type": "code",
      "execution_count": 775,
      "metadata": {
        "id": "541d2764",
        "tags": []
      },
      "outputs": [],
      "source": [
        "def lpop(t):\n",
        "    if t.head is None:\n",
        "        raise ValueError(\"Tried to pop from empty LinkedList\")\n",
        "    node = t.head\n",
        "    t.head = node.next\n",
        "    return node.data"
      ]
    },
    {
      "cell_type": "code",
      "execution_count": 776,
      "metadata": {
        "id": "091cf27c",
        "tags": []
      },
      "outputs": [
        {
          "data": {
            "text/plain": [
              "([7, 14, 21], [3, 5, 7], [1, 2, 3])"
            ]
          },
          "execution_count": 776,
          "metadata": {},
          "output_type": "execute_result"
        }
      ],
      "source": [
        "lpop(t3), lpop(t3), lpop(t3)"
      ]
    },
    {
      "cell_type": "code",
      "execution_count": 777,
      "metadata": {
        "id": "1W_mNkcdV80c"
      },
      "outputs": [
        {
          "data": {
            "text/plain": [
              "(1, 2, 3)"
            ]
          },
          "execution_count": 777,
          "metadata": {},
          "output_type": "execute_result"
        }
      ],
      "source": [
        "lpop(t3), lpop(t3), lpop(t3)"
      ]
    },
    {
      "cell_type": "code",
      "execution_count": 778,
      "metadata": {
        "id": "orymUNgIVzSP"
      },
      "outputs": [],
      "source": [
        "# lpop(t3)"
      ]
    },
    {
      "cell_type": "code",
      "execution_count": 779,
      "metadata": {
        "id": "db0fiJGaY3VN"
      },
      "outputs": [
        {
          "data": {
            "text/plain": [
              "LinkedList2(None)"
            ]
          },
          "execution_count": 779,
          "metadata": {},
          "output_type": "execute_result"
        }
      ],
      "source": [
        "t2"
      ]
    },
    {
      "cell_type": "markdown",
      "metadata": {
        "id": "82eaab11"
      },
      "source": [
        "**Exercise 3:** Write `rpush` and `rpop`. Adding and removing from the end right side take longer because we have to traverse the list. You may write this as a function. Or as an attribute of `LinkedList3`\n",
        "\n",
        "If you choose to add it as an attribute.\n",
        "You may need to add an attribute to LinkedList `__init__` called self.last_node to make this work.\n",
        "\n",
        "But it is possible to do it without it.\n"
      ]
    },
    {
      "cell_type": "code",
      "execution_count": 780,
      "metadata": {
        "id": "PZhKhiO5a6MC"
      },
      "outputs": [
        {
          "name": "stdout",
          "output_type": "stream",
          "text": [
            "List after rpush operations: LinkedList3(Node3(1, Node3(2, Node3(3, None))))\n",
            "Popped value: 3\n",
            "List after rpop operation: LinkedList3(Node3(1, Node3(2, None)))\n",
            "Popped value: 2\n",
            "List after rpop operation: LinkedList3(Node3(1, None))\n",
            "Popped value: 1\n",
            "List after rpop operation: LinkedList3(None)\n"
          ]
        }
      ],
      "source": [
        "class Node3:\n",
        "    def __init__(self, data, next=None):\n",
        "        self.data = data\n",
        "        self.next = next\n",
        "\n",
        "    def __repr__(self):\n",
        "        return f\"Node3({self.data}, {repr(self.next)})\"\n",
        "\n",
        "\n",
        "class LinkedList3:\n",
        "    def __init__(self, head=None):\n",
        "        self.head = head\n",
        "\n",
        "    def __repr__(self):\n",
        "        return f\"LinkedList3({repr(self.head)})\"\n",
        "\n",
        "    def rpush(self, data):\n",
        "        \"\"\"\n",
        "        Adds a new node with the specified data to the end of the list.\n",
        "        \"\"\"\n",
        "        new_node = Node3(data)\n",
        "        if not self.head:\n",
        "            # If the list is empty, set the new node as the head\n",
        "            self.head = new_node\n",
        "            return\n",
        "        current = self.head\n",
        "        # Traverse to the end of the list\n",
        "        while current.next:\n",
        "            current = current.next\n",
        "        # Add the new node at the end\n",
        "        current.next = new_node\n",
        "\n",
        "    def rpop(self):\n",
        "        \"\"\"\n",
        "        Removes the last node from the list and returns its data.\n",
        "        \"\"\"\n",
        "        if not self.head:\n",
        "            # If the list is empty, return None\n",
        "            return None\n",
        "        if not self.head.next:\n",
        "            # If the list has only one node, remove it and set head to None\n",
        "            pop_node = self.head\n",
        "            self.head = None\n",
        "            return pop_node.data\n",
        "        current = self.head\n",
        "        # Traverse to the second-to-last node\n",
        "        while current.next and current.next.next:\n",
        "            current = current.next\n",
        "        # Remove the last node and return its data\n",
        "        pop_node = current.next\n",
        "        current.next = None\n",
        "        return pop_node.data\n",
        "\n",
        "\n",
        "# Testing\n",
        "if __name__ == \"__main__\":\n",
        "    # Create and link nodes\n",
        "    t3 = LinkedList3()\n",
        "    t3.rpush(1)\n",
        "    t3.rpush(2)\n",
        "    t3.rpush(3)\n",
        "\n",
        "    print(f\"List after rpush operations: {t3}\")\n",
        "\n",
        "    # Pop the last node\n",
        "    popped_value = t3.rpop()\n",
        "    print(f\"Popped value: {popped_value}\")\n",
        "    print(f\"List after rpop operation: {t3}\")\n",
        "\n",
        "    popped_value = t3.rpop()\n",
        "    print(f\"Popped value: {popped_value}\")\n",
        "    print(f\"List after rpop operation: {t3}\")\n",
        "\n",
        "    popped_value = t3.rpop()\n",
        "    print(f\"Popped value: {popped_value}\")\n",
        "    print(f\"List after rpop operation: {t3}\")"
      ]
    },
    {
      "cell_type": "code",
      "execution_count": 781,
      "metadata": {
        "id": "XyvRVvdda6MD"
      },
      "outputs": [],
      "source": [
        "t4 = LinkedList3(nodeA)"
      ]
    },
    {
      "cell_type": "code",
      "execution_count": 782,
      "metadata": {
        "id": "X_ZmErZoZ4Jd"
      },
      "outputs": [
        {
          "data": {
            "text/plain": [
              "LinkedList3(Node2(1, Node2(2, Node2(3, Node3({1, 2, 3, 4}, None)))))"
            ]
          },
          "execution_count": 782,
          "metadata": {},
          "output_type": "execute_result"
        }
      ],
      "source": [
        "t4.rpush({1, 2, 3, 4})\n",
        "t4"
      ]
    },
    {
      "cell_type": "code",
      "execution_count": 783,
      "metadata": {
        "id": "25Z0xT-WZVIu"
      },
      "outputs": [],
      "source": [
        "def rpush(self, newElement):\n",
        "    self.head = Node3(newElement, self.head)"
      ]
    },
    {
      "cell_type": "code",
      "execution_count": 784,
      "metadata": {
        "id": "Loh5DAFVWUIc"
      },
      "outputs": [
        {
          "data": {
            "text/plain": [
              "LinkedList2(None)"
            ]
          },
          "execution_count": 784,
          "metadata": {},
          "output_type": "execute_result"
        }
      ],
      "source": [
        "rpush(t4, \"a\")\n",
        "t2"
      ]
    },
    {
      "cell_type": "markdown",
      "metadata": {
        "id": "4c3b6a6c"
      },
      "source": [
        "## Reverse\n",
        "\n",
        "Reversing a linked list is a classic interview question, although at this point it is so classic you will probably never encounter it.\n",
        "\n",
        "But it is still a good exercise, in part because there are so many ways to do it. My solutions here are based on [this tutorial](https://www.geeksforgeeks.org/reverse-a-linked-list/).\n"
      ]
    },
    {
      "cell_type": "markdown",
      "metadata": {
        "id": "0c1dc751"
      },
      "source": [
        "If you are allowed to make a new list, you can traverse the old list and `lpush` the elements onto the new list:\n"
      ]
    },
    {
      "cell_type": "code",
      "execution_count": 785,
      "metadata": {
        "id": "8e09adea"
      },
      "outputs": [],
      "source": [
        "def reverse(t):\n",
        "    t2 = LinkedList()\n",
        "    node = t.head\n",
        "    while node:\n",
        "        lpush(t2, node.data)\n",
        "        node = node.next\n",
        "\n",
        "    return t2"
      ]
    },
    {
      "cell_type": "code",
      "execution_count": 786,
      "metadata": {
        "colab": {
          "base_uri": "https://localhost:8080/"
        },
        "id": "Frlc4Wraeajk",
        "outputId": "3c540922-8294-4f44-a653-231a26cde3b0"
      },
      "outputs": [
        {
          "data": {
            "text/plain": [
              "LinkedList(Node(1, Node(2, Node(3, None))))"
            ]
          },
          "execution_count": 786,
          "metadata": {},
          "output_type": "execute_result"
        }
      ],
      "source": [
        "t"
      ]
    },
    {
      "cell_type": "code",
      "execution_count": 787,
      "metadata": {
        "colab": {
          "base_uri": "https://localhost:8080/"
        },
        "id": "fd9fcc52",
        "outputId": "32975126-811b-44bd-aef9-e90464a4250f"
      },
      "outputs": [
        {
          "data": {
            "text/plain": [
              "LinkedList(Node(3, Node(2, Node(1, None))))"
            ]
          },
          "execution_count": 787,
          "metadata": {},
          "output_type": "execute_result"
        }
      ],
      "source": [
        "t = LinkedList(Node(1, Node(2, Node(3, None))))\n",
        "reverse(t)"
      ]
    },
    {
      "cell_type": "markdown",
      "metadata": {
        "id": "650cd970"
      },
      "source": [
        "Here's a recursive version that doesn't allocate anything\n"
      ]
    },
    {
      "cell_type": "code",
      "execution_count": 788,
      "metadata": {
        "id": "39ecaac5"
      },
      "outputs": [],
      "source": [
        "def reverse(t):\n",
        "    t.head = reverse_rec(t.head)\n",
        "\n",
        "\n",
        "def reverse_rec(node):\n",
        "\n",
        "    # if there are 0 or 1 nodes\n",
        "    if node is None or node.next is None:\n",
        "        return node\n",
        "\n",
        "    # reverse the rest LinkedList\n",
        "    rest = reverse_rec(node.next)\n",
        "\n",
        "    # Put first element at the end\n",
        "    node.next.next = node\n",
        "    node.next = None\n",
        "\n",
        "    return rest"
      ]
    },
    {
      "cell_type": "code",
      "execution_count": 789,
      "metadata": {
        "colab": {
          "base_uri": "https://localhost:8080/"
        },
        "id": "a1b1c5b4",
        "outputId": "ee1b5573-ecbb-4701-f2bb-80ab049399d3"
      },
      "outputs": [
        {
          "data": {
            "text/plain": [
              "LinkedList(Node(3, Node(p, Node(a, None))))"
            ]
          },
          "execution_count": 789,
          "metadata": {},
          "output_type": "execute_result"
        }
      ],
      "source": [
        "t = LinkedList(Node(\"a\", Node(\"p\", Node(3, None))))\n",
        "reverse(t)\n",
        "t"
      ]
    },
    {
      "cell_type": "markdown",
      "metadata": {
        "id": "24e735a0"
      },
      "source": [
        "And finally an iterative version that doesn't allocate anything.\n"
      ]
    },
    {
      "cell_type": "code",
      "execution_count": 790,
      "metadata": {
        "id": "a99a76d9"
      },
      "outputs": [],
      "source": [
        "def reverse(t):\n",
        "    prev = None\n",
        "    current = t.head\n",
        "    while current:\n",
        "        next = current.next\n",
        "        current.next = prev\n",
        "        prev = current\n",
        "        current = next\n",
        "    t.head = prev"
      ]
    },
    {
      "cell_type": "code",
      "execution_count": 791,
      "metadata": {
        "colab": {
          "base_uri": "https://localhost:8080/"
        },
        "id": "bfe8841a",
        "outputId": "37e13a68-43ad-48fc-c6a9-da3ce1cd6c91"
      },
      "outputs": [
        {
          "data": {
            "text/plain": [
              "LinkedList(Node(3, Node(2, Node(1, None))))"
            ]
          },
          "execution_count": 791,
          "metadata": {},
          "output_type": "execute_result"
        }
      ],
      "source": [
        "t = LinkedList(Node(1, Node(2, Node(3, None))))\n",
        "reverse(t)\n",
        "t"
      ]
    },
    {
      "cell_type": "markdown",
      "metadata": {
        "id": "cf2e89ec"
      },
      "source": [
        "## Remove\n",
        "\n",
        "One of the advantages of a linked list (compared to an array list) is that we can add and remove elements from the middle of the list in constant time.\n",
        "\n",
        "For example, the following function takes a node and removes the node that follows it.\n"
      ]
    },
    {
      "cell_type": "code",
      "execution_count": 792,
      "metadata": {
        "id": "9b7d0ef5"
      },
      "outputs": [],
      "source": [
        "def remove_after(node):\n",
        "    removed = node.next\n",
        "    node.next = node.next.next\n",
        "    return removed.data"
      ]
    },
    {
      "cell_type": "markdown",
      "metadata": {
        "id": "2e0f3d2b"
      },
      "source": [
        "Here's an example:\n"
      ]
    },
    {
      "cell_type": "code",
      "execution_count": 793,
      "metadata": {
        "id": "fbb1598d"
      },
      "outputs": [
        {
          "data": {
            "text/plain": [
              "LinkedList(Node(1, Node(3, None)))"
            ]
          },
          "execution_count": 793,
          "metadata": {},
          "output_type": "execute_result"
        }
      ],
      "source": [
        "t = LinkedList(Node(1, Node(2, Node(3, None))))\n",
        "remove_after(t.head)\n",
        "t"
      ]
    },
    {
      "cell_type": "markdown",
      "metadata": {
        "id": "2208f44f"
      },
      "source": [
        "**Exercise 4:** Write a function called `remove_bykey` that takes a LinkedList and a target value. It should remove the first node that contains the value, or raise a `ValueError` if it is not found.\n",
        "\n",
        "Hint: This one is a little tricky.\n",
        "\n",
        "This is going to help you remove a value...but it won't helpy you raise the value error\n",
        "\n",
        "you can also try adding a normal remove function\n",
        "\n",
        "https://www.alphacodingskills.com/python/ds/python-delete-first-node-by-key-of-the-linked-list.php\n"
      ]
    },
    {
      "cell_type": "code",
      "execution_count": 794,
      "metadata": {
        "id": "rHTOoINJfHZy"
      },
      "outputs": [],
      "source": [
        "def remove(self, position):\n",
        "    \"\"\"\n",
        "    Removes the node at the specified position in the linked list.\n",
        "    Raises an IndexError if the position is out of bounds.\n",
        "    \"\"\"\n",
        "    if position < 0:\n",
        "        raise IndexError(\"Position out of bounds\")\n",
        "\n",
        "    current = self.head\n",
        "    previous = None\n",
        "    current_position = 0\n",
        "\n",
        "    while current is not None:\n",
        "        if current_position == position:\n",
        "            if previous is None:\n",
        "                # The position is the head of the list\n",
        "                self.head = current.next\n",
        "            else:\n",
        "                # The position is in a non-head node\n",
        "                previous.next = current.next\n",
        "            return\n",
        "        previous = current\n",
        "        current = current.next\n",
        "        current_position += 1\n",
        "\n",
        "    # If the loop completes, the position is out of bounds\n",
        "    raise IndexError(\"Position out of bounds\")"
      ]
    },
    {
      "cell_type": "code",
      "execution_count": 795,
      "metadata": {
        "id": "f1AXixP4fv7J"
      },
      "outputs": [
        {
          "data": {
            "text/plain": [
              "'\\ndef remove_bykey(self, key):\\n    current = self.head\\n    previous = None\\n\\n    while current is not None:\\n        if current.data == key:\\n            if previous is None:\\n                # The key is found in the head node\\n                self.head = current.next\\n            else:\\n                # The key is found in a non-head node\\n                previous.next = current.next\\n            return\\n        previous = current\\n        current = current.next\\n    \\n    # If the loop completes without finding the key\\n    raise ValueError(f\"Value {key} not found in the list\")\\n'"
            ]
          },
          "execution_count": 795,
          "metadata": {},
          "output_type": "execute_result"
        }
      ],
      "source": [
        "# Reference used to help: https://www.geeksforgeeks.org/delete-occurrences-given-key-linked-list/\n",
        "\"\"\"\n",
        "    Removes the first node that contains the specified key value from the linked list.\n",
        "    Raises a ValueError if the key is not found.\n",
        "    THIS CODE IS NOT WORKING WITH MULTIPLE KEYS    \n",
        "\"\"\"\n",
        "\"\"\"\n",
        "def remove_bykey(self, key):\n",
        "    current = self.head\n",
        "    previous = None\n",
        "\n",
        "    while current is not None:\n",
        "        if current.data == key:\n",
        "            if previous is None:\n",
        "                # The key is found in the head node\n",
        "                self.head = current.next\n",
        "            else:\n",
        "                # The key is found in a non-head node\n",
        "                previous.next = current.next\n",
        "            return\n",
        "        previous = current\n",
        "        current = current.next\n",
        "    \n",
        "    # If the loop completes without finding the key\n",
        "    raise ValueError(f\"Value {key} not found in the list\")\n",
        "\"\"\""
      ]
    },
    {
      "cell_type": "code",
      "execution_count": 796,
      "metadata": {},
      "outputs": [],
      "source": [
        "def remove_bykey(self, key):\n",
        "    \"\"\"\n",
        "    Removes the first node that contains the specified key value from the linked list.\n",
        "    Raises a ValueError if the key is not found.\n",
        "    \"\"\"\n",
        "    current = self.head\n",
        "    previous = None\n",
        "    while current is not None:\n",
        "        if current.data == key:\n",
        "            if previous is None:\n",
        "                # The key is found in the head node\n",
        "                self.head = current.next\n",
        "            else:\n",
        "                # The key is found in a non-head node\n",
        "                previous.next = current.next\n",
        "            return\n",
        "        previous = current\n",
        "        current = current.next\n",
        "    \n",
        "    # If the loop completes without finding the key\n",
        "    raise ValueError(f\"Value {key} not found in the list\")"
      ]
    },
    {
      "cell_type": "code",
      "execution_count": 797,
      "metadata": {},
      "outputs": [
        {
          "name": "stdout",
          "output_type": "stream",
          "text": [
            "List: LinkedList3(Node3(1, Node3(2, Node3(3, Node3(4, Node3(5, Node3(6, Node3(7, Node3(14, Node3(21, Node3(7, Node3(8, Node3(9, Node3(14, Node3(10, Node3(11, Node3(21, Node3(12, Node3(13, Node3(14, None))))))))))))))))))))\n"
          ]
        }
      ],
      "source": [
        "if __name__ == \"__main__\":\n",
        "    t3 = LinkedList3()\n",
        "    for num in [1, 2, 3, 4, 5, 6, 7, 14, 21, 7, 8, 9, 14, 10, 11, 21, 12, 13, 14]:\n",
        "        t3.rpush(num)\n",
        "\n",
        "    print(f\"List: {t3}\")"
      ]
    },
    {
      "cell_type": "code",
      "execution_count": 798,
      "metadata": {
        "id": "caLEF80NfJ6D"
      },
      "outputs": [
        {
          "data": {
            "text/plain": [
              "LinkedList3(Node3(1, Node3(2, Node3(3, Node3(4, Node3(5, Node3(6, Node3(7, Node3(14, Node3(21, Node3(7, Node3(8, Node3(9, Node3(14, Node3(10, Node3(11, Node3(21, Node3(12, Node3(13, Node3(14, None))))))))))))))))))))"
            ]
          },
          "execution_count": 798,
          "metadata": {},
          "output_type": "execute_result"
        }
      ],
      "source": [
        "t3"
      ]
    },
    {
      "cell_type": "code",
      "execution_count": 799,
      "metadata": {
        "id": "wxiXNJc9fMxG"
      },
      "outputs": [],
      "source": [
        "remove_bykey(t3, 3)"
      ]
    },
    {
      "cell_type": "code",
      "execution_count": 800,
      "metadata": {
        "id": "p6OG0MerfdJ5"
      },
      "outputs": [],
      "source": [
        "# remove_bykey(t3, [7, 14, 21]) \n",
        "# Broken, fix later"
      ]
    },
    {
      "cell_type": "code",
      "execution_count": 801,
      "metadata": {
        "id": "ZAA_X6hGfZY_"
      },
      "outputs": [
        {
          "data": {
            "text/plain": [
              "LinkedList3(Node3(1, Node3(2, Node3(4, Node3(5, Node3(6, Node3(7, Node3(14, Node3(21, Node3(7, Node3(8, Node3(9, Node3(14, Node3(10, Node3(11, Node3(21, Node3(12, Node3(13, Node3(14, None)))))))))))))))))))"
            ]
          },
          "execution_count": 801,
          "metadata": {},
          "output_type": "execute_result"
        }
      ],
      "source": [
        "t3"
      ]
    },
    {
      "cell_type": "markdown",
      "metadata": {
        "id": "ab7f0a6a"
      },
      "source": [
        "## Insert Sorted\n",
        "\n",
        "Similarly, you can insert an element into the middle of a linked list in constant time.\n",
        "\n",
        "The following function inserts `data` after the given node in a list.\n"
      ]
    },
    {
      "cell_type": "code",
      "execution_count": 802,
      "metadata": {
        "id": "3e754808"
      },
      "outputs": [],
      "source": [
        "def insert_after(node, data):\n",
        "    node.next = Node(data, node.next)"
      ]
    },
    {
      "cell_type": "code",
      "execution_count": 803,
      "metadata": {
        "id": "c8022b07"
      },
      "outputs": [
        {
          "data": {
            "text/plain": [
              "LinkedList(Node(1, Node(5, Node(2, Node(3, None)))))"
            ]
          },
          "execution_count": 803,
          "metadata": {},
          "output_type": "execute_result"
        }
      ],
      "source": [
        "t = LinkedList(Node(1, Node(2, Node(3, None))))\n",
        "insert_after(t.head, 5)\n",
        "t"
      ]
    },
    {
      "cell_type": "markdown",
      "metadata": {
        "id": "5f2a2a1c"
      },
      "source": [
        "**Exercise 5:** Add as an attribute a function called `insert_sorted` (also known as `insort`) that takes a linked list and a value and inserts the value in the list in the first place where it will be in increasing sorted order, that is, with the smallest element at the beginning.\n",
        "\n",
        "I would name this as a different named Linked List4 for clarity, also remember to include `self.next` as a functionality\n"
      ]
    },
    {
      "cell_type": "code",
      "execution_count": 804,
      "metadata": {
        "id": "5DOpSKqPlOVO"
      },
      "outputs": [],
      "source": [
        "class Node4:\n",
        "    def __init__(self, data, next=None):\n",
        "        self.data = data\n",
        "        self.next = next\n",
        "\n",
        "    def __repr__(self):\n",
        "        return f'Node4({self.data}, {repr(self.next)})'\n",
        "\n",
        "class LinkedList4:\n",
        "\n",
        "    # Function to initialize head\n",
        "    def __init__(self):\n",
        "        self.head = None\n",
        "        self.next = None\n",
        "\n",
        "    def sortedInsert(self, new_node):\n",
        "\n",
        "        # Special case for the empty linked list\n",
        "        if self.head is None:\n",
        "            new_node.next = self.head\n",
        "            self.head = new_node\n",
        "\n",
        "        # Special case for head at end\n",
        "        elif self.head.data >= new_node.data:\n",
        "            new_node.next = self.head\n",
        "            self.head = new_node\n",
        "\n",
        "        else:\n",
        "\n",
        "            # Locate the node before the point of insertion\n",
        "            current = self.head\n",
        "            while current.next is not None and current.next.data < new_node.data:\n",
        "                current = current.next\n",
        "\n",
        "            new_node.next = current.next\n",
        "            current.next = new_node\n",
        "\n",
        "        def insert_sorted(self, value):\n",
        "            new_node = Node(value)\n",
        "    \n",
        "            # Special case for the empty linked list\n",
        "            if self.head is None:\n",
        "                self.head = new_node\n",
        "                return\n",
        "    \n",
        "            # Special case for insertion at the beginning\n",
        "            if self.head.data >= value:\n",
        "                new_node.next = self.head\n",
        "                self.head = new_node\n",
        "                return\n",
        "    \n",
        "            # Locate the node before the point of insertion\n",
        "            current = self.head\n",
        "            while current.next is not None and current.next.data < value:\n",
        "                current = current.next\n",
        "    \n",
        "            new_node.next = current.next\n",
        "            current.next = new_node\n",
        "\n",
        "    def insert_sorted(self, data):\n",
        "        new_node = Node4(data)\n",
        "        \n",
        "        # Special case for the empty linked list\n",
        "        if self.head is None:\n",
        "            new_node.next = self.head\n",
        "            self.head = new_node\n",
        "\n",
        "        # Special case for head at end\n",
        "        elif self.head.data >= new_node.data:\n",
        "            new_node.next = self.head\n",
        "            self.head = new_node\n",
        "\n",
        "        else:\n",
        "            # Locate the node before the point of insertion\n",
        "            current = self.head\n",
        "            while current.next is not None and current.next.data < new_node.data:\n",
        "                current = current.next\n",
        "\n",
        "            new_node.next = current.next\n",
        "            current.next = new_node\n",
        "\n",
        "    # Function to insert a new node at the beginning\n",
        "    def push(self, new_data):\n",
        "        new_node = Node4(new_data)\n",
        "        new_node.next = self.head\n",
        "        self.head = new_node\n",
        "\n",
        "\n",
        "    # Function to insert a new node at the beginning\n",
        "    def push(self, new_data):\n",
        "        new_node = Node(new_data)\n",
        "        new_node.next = self.head\n",
        "        self.head = new_node\n",
        "\n",
        "    def __repr__(self):\n",
        "        return f\"LinkedList({repr(self.head)})\""
      ]
    },
    {
      "cell_type": "code",
      "execution_count": 805,
      "metadata": {
        "id": "IeseDEOeli4y"
      },
      "outputs": [],
      "source": [
        "t6 = LinkedList4()"
      ]
    },
    {
      "cell_type": "code",
      "execution_count": 806,
      "metadata": {
        "id": "0SuBThtHl1Qr"
      },
      "outputs": [
        {
          "data": {
            "text/plain": [
              "LinkedList(None)"
            ]
          },
          "execution_count": 806,
          "metadata": {},
          "output_type": "execute_result"
        }
      ],
      "source": [
        "t6"
      ]
    },
    {
      "cell_type": "code",
      "execution_count": 807,
      "metadata": {
        "id": "h2bS2FhVmGHo"
      },
      "outputs": [
        {
          "data": {
            "text/plain": [
              "LinkedList(Node(2000, Node(175, Node(130, Node(120, Node(100, None))))))"
            ]
          },
          "execution_count": 807,
          "metadata": {},
          "output_type": "execute_result"
        }
      ],
      "source": [
        "t6.push(100)\n",
        "t6.push(120)\n",
        "t6.push(130)\n",
        "t6.push(175)\n",
        "t6.push(2000)\n",
        "t6"
      ]
    },
    {
      "cell_type": "code",
      "execution_count": 808,
      "metadata": {
        "id": "uuYIf7rV8hLe"
      },
      "outputs": [
        {
          "data": {
            "text/plain": [
              "LinkedList(Node(2000, Node(175, Node(130, Node(120, Node(100, Node2(2001, None)))))))"
            ]
          },
          "execution_count": 808,
          "metadata": {},
          "output_type": "execute_result"
        }
      ],
      "source": [
        "new_node1 = Node2(2001)\n",
        "new_node2 = Node2(2002)\n",
        "new_node3 = Node2(125)\n",
        "new_node4 = Node2(121)\n",
        "\n",
        "\n",
        "t6.sortedInsert(new_node1)\n",
        "t6"
      ]
    },
    {
      "cell_type": "code",
      "execution_count": 809,
      "metadata": {
        "id": "_ZuiM30wBNVk"
      },
      "outputs": [
        {
          "data": {
            "text/plain": [
              "LinkedList(Node2(121, Node(2000, Node(175, Node(130, Node(120, Node(100, Node2(2001, None))))))))"
            ]
          },
          "execution_count": 809,
          "metadata": {},
          "output_type": "execute_result"
        }
      ],
      "source": [
        "t6.sortedInsert(new_node4)\n",
        "t6"
      ]
    },
    {
      "cell_type": "code",
      "execution_count": 810,
      "metadata": {
        "id": "6heAjql8Bp9P"
      },
      "outputs": [],
      "source": [
        "new_node5 = Node2(3000)\n",
        "new_node6 = Node2(176)"
      ]
    },
    {
      "cell_type": "code",
      "execution_count": 811,
      "metadata": {
        "id": "UeYNIzmWBvHX"
      },
      "outputs": [],
      "source": [
        "t6.sortedInsert(new_node5)"
      ]
    },
    {
      "cell_type": "code",
      "execution_count": 812,
      "metadata": {
        "id": "qNfLU52yB8yz"
      },
      "outputs": [],
      "source": [
        "t6.sortedInsert(new_node6)"
      ]
    },
    {
      "cell_type": "code",
      "execution_count": 813,
      "metadata": {
        "id": "XD6UBh6MCAFx"
      },
      "outputs": [
        {
          "data": {
            "text/plain": [
              "LinkedList(Node2(121, Node2(176, Node(2000, Node(175, Node(130, Node(120, Node(100, Node2(2001, Node2(3000, None))))))))))"
            ]
          },
          "execution_count": 813,
          "metadata": {},
          "output_type": "execute_result"
        }
      ],
      "source": [
        "t6"
      ]
    },
    {
      "cell_type": "code",
      "execution_count": 814,
      "metadata": {
        "id": "ATinq5G6CDT4"
      },
      "outputs": [],
      "source": [
        "new_node7 = Node2(178)\n",
        "t6.sortedInsert(new_node7)"
      ]
    },
    {
      "cell_type": "code",
      "execution_count": 815,
      "metadata": {
        "id": "v0fgWVACCMTr"
      },
      "outputs": [
        {
          "data": {
            "text/plain": [
              "LinkedList(Node2(121, Node2(176, Node2(178, Node(2000, Node(175, Node(130, Node(120, Node(100, Node2(2001, Node2(3000, None)))))))))))"
            ]
          },
          "execution_count": 815,
          "metadata": {},
          "output_type": "execute_result"
        }
      ],
      "source": [
        "t6"
      ]
    },
    {
      "cell_type": "code",
      "execution_count": 816,
      "metadata": {
        "id": "hKIqvhF8_NtH"
      },
      "outputs": [],
      "source": [
        "t3 = LinkedList4()"
      ]
    },
    {
      "cell_type": "code",
      "execution_count": 817,
      "metadata": {
        "id": "8O7uykt3_VVO"
      },
      "outputs": [],
      "source": [
        "t3.sortedInsert(new_node1)\n",
        "t3.sortedInsert(new_node3)"
      ]
    },
    {
      "cell_type": "code",
      "execution_count": 818,
      "metadata": {
        "id": "EAkdNQHgA6Ju"
      },
      "outputs": [
        {
          "data": {
            "text/plain": [
              "LinkedList(Node2(125, Node2(2001, None)))"
            ]
          },
          "execution_count": 818,
          "metadata": {},
          "output_type": "execute_result"
        }
      ],
      "source": [
        "t3"
      ]
    },
    {
      "cell_type": "code",
      "execution_count": 819,
      "metadata": {
        "id": "cOzzZqvEBEbl"
      },
      "outputs": [],
      "source": [
        "t3.sortedInsert(new_node2)"
      ]
    },
    {
      "cell_type": "code",
      "execution_count": 820,
      "metadata": {
        "id": "poqle4yTBIV-"
      },
      "outputs": [
        {
          "data": {
            "text/plain": [
              "LinkedList(Node2(125, Node2(2001, Node2(2002, None))))"
            ]
          },
          "execution_count": 820,
          "metadata": {},
          "output_type": "execute_result"
        }
      ],
      "source": [
        "t3"
      ]
    },
    {
      "cell_type": "markdown",
      "metadata": {
        "id": "JzRtnLFXC5XD"
      },
      "source": [
        "## Make a complete Linked List\n",
        "\n",
        "**Exercise 6:** Make a `Node` class and a `LinkedList` class with the best and most functionality that you can. Please demonstrate the features. You can also include small explanations for why you included different pieces. Make sure to name your pieces correctly. A lot of the examples oscillate between data or val, or have different names for variables.\n",
        "\n",
        "For example: I think the `__repr__` methods are indispensable but other exmamples didn't include it.\n"
      ]
    },
    {
      "cell_type": "code",
      "execution_count": 821,
      "metadata": {},
      "outputs": [
        {
          "name": "stdout",
          "output_type": "stream",
          "text": [
            "After append and prepend: LinkedList([1, 2, 3, 4])\n",
            "After inserting 2.5 at index 2: LinkedList([1, 2, 2.5, 3, 4])\n",
            "After removing 3: LinkedList([1, 2, 2.5, 4])\n",
            "Index of 4: 3\n",
            "Element at index 2: 2.5\n",
            "Length of list: 4\n",
            "Iterating through the list:\n",
            "1\n",
            "2\n",
            "2.5\n",
            "4\n",
            "After clearing: LinkedList([])\n"
          ]
        }
      ],
      "source": [
        "class Node:\n",
        "    def __init__(self, data):\n",
        "        self.data = data  # We use 'data' consistently for clarity\n",
        "        self.next = None\n",
        "\n",
        "    def __repr__(self):\n",
        "        return f\"Node({self.data})\"  # Useful for debugging and representation\n",
        "\n",
        "class LinkedList:\n",
        "    def __init__(self):\n",
        "        self.head = None\n",
        "        self.tail = None  # Maintaining a tail for O(1) append operations\n",
        "        self.size = 0  # Keeping track of size for O(1) length operations\n",
        "\n",
        "    def is_empty(self):\n",
        "        return self.head is None\n",
        "\n",
        "    def append(self, data):\n",
        "        new_node = Node(data)\n",
        "        if self.is_empty():\n",
        "            self.head = self.tail = new_node\n",
        "        else:\n",
        "            self.tail.next = new_node\n",
        "            self.tail = new_node\n",
        "        self.size += 1\n",
        "\n",
        "    def prepend(self, data):\n",
        "        new_node = Node(data)\n",
        "        if self.is_empty():\n",
        "            self.head = self.tail = new_node\n",
        "        else:\n",
        "            new_node.next = self.head\n",
        "            self.head = new_node\n",
        "        self.size += 1\n",
        "\n",
        "    def insert(self, data, index):\n",
        "        if index < 0 or index > self.size:\n",
        "            raise IndexError(\"Index out of range\")\n",
        "        if index == 0:\n",
        "            self.prepend(data)\n",
        "        elif index == self.size:\n",
        "            self.append(data)\n",
        "        else:\n",
        "            new_node = Node(data)\n",
        "            current = self.head\n",
        "            for _ in range(index - 1):\n",
        "                current = current.next\n",
        "            new_node.next = current.next\n",
        "            current.next = new_node\n",
        "            self.size += 1\n",
        "\n",
        "    def remove(self, data):\n",
        "        if self.is_empty():\n",
        "            return False\n",
        "        if self.head.data == data:\n",
        "            self.head = self.head.next\n",
        "            self.size -= 1\n",
        "            if self.is_empty():\n",
        "                self.tail = None\n",
        "            return True\n",
        "        current = self.head\n",
        "        while current.next:\n",
        "            if current.next.data == data:\n",
        "                current.next = current.next.next\n",
        "                self.size -= 1\n",
        "                if current.next is None:\n",
        "                    self.tail = current\n",
        "                return True\n",
        "            current = current.next\n",
        "        return False\n",
        "\n",
        "    def index(self, data):\n",
        "        current = self.head\n",
        "        index = 0\n",
        "        while current:\n",
        "            if current.data == data:\n",
        "                return index\n",
        "            current = current.next\n",
        "            index += 1\n",
        "        raise ValueError(f\"{data} is not in the list\")\n",
        "\n",
        "    def get(self, index):\n",
        "        if index < 0 or index >= self.size:\n",
        "            raise IndexError(\"Index out of range\")\n",
        "        current = self.head\n",
        "        for _ in range(index):\n",
        "            current = current.next\n",
        "        return current.data\n",
        "\n",
        "    def clear(self):\n",
        "        self.head = None\n",
        "        self.tail = None\n",
        "        self.size = 0\n",
        "\n",
        "    def __len__(self):\n",
        "        return self.size\n",
        "\n",
        "    def __iter__(self):\n",
        "        current = self.head\n",
        "        while current:\n",
        "            yield current.data\n",
        "            current = current.next\n",
        "\n",
        "    def __repr__(self):\n",
        "        return f\"LinkedList([{', '.join(str(item) for item in self)}])\"\n",
        "\n",
        "    def __str__(self):\n",
        "        return self.__repr__()\n",
        "\n",
        "# Demonstration\n",
        "if __name__ == \"__main__\":\n",
        "    ll = LinkedList()\n",
        "    \n",
        "    # Append and prepend\n",
        "    ll.append(3)\n",
        "    ll.append(4)\n",
        "    ll.prepend(2)\n",
        "    ll.prepend(1)\n",
        "    print(f\"After append and prepend: {ll}\")\n",
        "\n",
        "    # Insert\n",
        "    ll.insert(2.5, 2)\n",
        "    print(f\"After inserting 2.5 at index 2: {ll}\")\n",
        "\n",
        "    # Remove\n",
        "    ll.remove(3)\n",
        "    print(f\"After removing 3: {ll}\")\n",
        "\n",
        "    # Index and get\n",
        "    print(f\"Index of 4: {ll.index(4)}\")\n",
        "    print(f\"Element at index 2: {ll.get(2)}\")\n",
        "\n",
        "    # Length\n",
        "    print(f\"Length of list: {len(ll)}\")\n",
        "\n",
        "    # Iteration\n",
        "    print(\"Iterating through the list:\")\n",
        "    for item in ll:\n",
        "        print(item)\n",
        "\n",
        "    # Clear\n",
        "    ll.clear()\n",
        "    print(f\"After clearing: {ll}\")"
      ]
    },
    {
      "cell_type": "code",
      "execution_count": null,
      "metadata": {},
      "outputs": [],
      "source": []
    }
  ],
  "metadata": {
    "colab": {
      "provenance": []
    },
    "kernelspec": {
      "display_name": "Python 3",
      "name": "python3"
    },
    "language_info": {
      "codemirror_mode": {
        "name": "ipython",
        "version": 3
      },
      "file_extension": ".py",
      "mimetype": "text/x-python",
      "name": "python",
      "nbconvert_exporter": "python",
      "pygments_lexer": "ipython3",
      "version": "3.12.2"
    }
  },
  "nbformat": 4,
  "nbformat_minor": 0
}
